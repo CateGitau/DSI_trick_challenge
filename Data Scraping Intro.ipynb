{
 "cells": [
  {
   "cell_type": "markdown",
   "metadata": {},
   "source": [
    "# Cape Town House Prices Data Scraping"
   ]
  },
  {
   "cell_type": "code",
   "execution_count": 7,
   "metadata": {},
   "outputs": [],
   "source": [
    "import requests as rq\n",
    "import bs4 as bs\n",
    "import traceback\n",
    "from selenium import webdriver\n",
    "from selenium.webdriver.support.ui import WebDriverWait\n",
    "from selenium.webdriver.common.by import By\n",
    "from selenium.webdriver.support import expected_conditions as EC\n",
    "import glob, os, time"
   ]
  },
  {
   "cell_type": "code",
   "execution_count": 115,
   "metadata": {},
   "outputs": [],
   "source": [
    "# run the bellow file, if it gives an erro, it means you need to install chrome driver and put it in your path\n",
    "# this opens a chrome \"site\" based on the link below which we will scrape from\n",
    "driver = webdriver.Chrome(executable_path=\"/home/cate/Downloads/chromedriver_linux64/chromedriver\")\n",
    "driver.get(\"https://www.pamgolding.co.za/property-search/properties-for-sale-multiple-locations/e15578f7-ff7c-4aa9-93ae-5909e975301e\")"
   ]
  },
  {
   "cell_type": "code",
   "execution_count": 31,
   "metadata": {},
   "outputs": [],
   "source": [
    "# this functions extract all the links that contain details of a house and stores them in refs\n",
    "def getLinks(news_links):\n",
    "    refs = []\n",
    "    for l in news_links:\n",
    "        href = l.attrs.get(\"href\")\n",
    "        if href == \"\" or href is None:\n",
    "            continue\n",
    "        if href.startswith(\"/property-details/\"):\n",
    "            refs.append(href)\n",
    "    return refs"
   ]
  },
  {
   "cell_type": "code",
   "execution_count": 32,
   "metadata": {},
   "outputs": [],
   "source": [
    "#calling beautiful soup which helps with scraping\n",
    "page_soup = bs.BeautifulSoup(driver.page_source,'html.parser')\n",
    "\n",
    "#selects all attributes which are links(contain href)\n",
    "news_links = page_soup.select('a', href=True)"
   ]
  },
  {
   "cell_type": "code",
   "execution_count": 38,
   "metadata": {},
   "outputs": [],
   "source": [
    "#apply the getlinks functions to find links that only contain the details of the house\n",
    "links = set(getLinks(news_links))"
   ]
  },
  {
   "cell_type": "code",
   "execution_count": 39,
   "metadata": {},
   "outputs": [
    {
     "data": {
      "text/plain": [
       "{'/property-details/4-bedroom-apartment-for-sale-clifton/as1464173',\n",
       " '/property-details/4-bedroom-house-for-sale-camps-bay/bay1408713',\n",
       " '/property-details/5-bedroom-apartment-for-sale-clifton/as1499564',\n",
       " '/property-details/5-bedroom-house-for-sale-bantry-bay/as1383456',\n",
       " '/property-details/5-bedroom-house-for-sale-bantry-bay/as1441271',\n",
       " '/property-details/5-bedroom-house-for-sale-fresnaye/as1373739',\n",
       " '/property-details/6-bedroom-house-for-sale-bantry-bay/as1300895',\n",
       " '/property-details/6-bedroom-house-for-sale-baronetcy-estate/1pla1337529',\n",
       " '/property-details/6-bedroom-house-for-sale-llandudno/hob1394811',\n",
       " '/property-details/9-bedroom-house-for-sale-fresnaye/as1291633'}"
      ]
     },
     "execution_count": 39,
     "metadata": {},
     "output_type": "execute_result"
    }
   ],
   "source": [
    "links"
   ]
  },
  {
   "cell_type": "markdown",
   "metadata": {},
   "source": [
    "From the above link texts we can get the following attributes:\n",
    "\n",
    "- house ID\n",
    "- number of bredrooms\n",
    "- if it's a house or appartment(type)\n",
    "- location"
   ]
  },
  {
   "cell_type": "code",
   "execution_count": 102,
   "metadata": {},
   "outputs": [],
   "source": [
    "driver = webdriver.Chrome(executable_path=\"/home/cate/Downloads/chromedriver_linux64/chromedriver\")\n",
    "url = \"https://www.pamgolding.co.za/property-details/4-bedroom-house-for-sale-camps-bay/bay1408713\"\n",
    "driver.get(url)"
   ]
  },
  {
   "cell_type": "code",
   "execution_count": 103,
   "metadata": {},
   "outputs": [],
   "source": [
    "#from bs4 import BeautifulSoup"
   ]
  },
  {
   "cell_type": "code",
   "execution_count": 104,
   "metadata": {},
   "outputs": [],
   "source": [
    "page_soup = bs.BeautifulSoup(driver.page_source,'html.parser')\n",
    "\n",
    "div = page_soup.find(\"div\", {\"class\": \"affordability\"})"
   ]
  },
  {
   "cell_type": "code",
   "execution_count": 111,
   "metadata": {},
   "outputs": [],
   "source": [
    "tags = page_soup.select(\"div.affordability\")"
   ]
  },
  {
   "cell_type": "code",
   "execution_count": 116,
   "metadata": {},
   "outputs": [
    {
     "data": {
      "text/plain": [
       "'[<div class=\"affordability\">\\n<p>\\n                                            Erf size: <br/><strong>818 m²</strong>\\n</p>\\n<p>\\n                                        Building size: <br/><strong>900 m²</strong>\\n</p>\\n<p>\\n                                            Rates and Taxes<br/>\\n<strong>\\n                                                R11,805\\n\\n                                                per month\\n\\n\\n                                            </strong>\\n</p>\\n</div>, <div class=\"affordability\">\\n<p>\\n</p><p class=\"bondCalcuationText\" data-bind=\"text: $root.BondRepayment\"></p>\\n<a href=\"/buy-property/affordability/bond-calculator\" id=\"fldCalculateBond\">Calculate my bond</a>\\n<p></p>\\n</div>]'"
      ]
     },
     "execution_count": 116,
     "metadata": {},
     "output_type": "execute_result"
    }
   ],
   "source": [
    "str(tags)"
   ]
  },
  {
   "cell_type": "code",
   "execution_count": 117,
   "metadata": {},
   "outputs": [
    {
     "name": "stdout",
     "output_type": "stream",
     "text": [
      "['\\n\\n                                            Erf size: 818 m²\\n\\n\\n                                        Building size: 900 m²\\n\\n\\n                                            Rates and Taxes\\n\\n                                                R11,805\\n\\n                                                per month\\n\\n\\n                                            \\n\\n', '\\n\\n\\nCalculate my bond\\n\\n']\n"
     ]
    }
   ],
   "source": [
    "final_text = []\n",
    "for p in tags:\n",
    "    p = p.text if p else ''\n",
    "    final_text.append(p)\n",
    "    \n",
    "print(str(final_text))"
   ]
  },
  {
   "cell_type": "markdown",
   "metadata": {},
   "source": [
    "From the above we can extract:\n",
    "\n",
    "- Erf size (idk what that is)\n",
    "- Building size\n",
    "- Rates and Taxes(don't know if this is necessary)"
   ]
  },
  {
   "cell_type": "code",
   "execution_count": 77,
   "metadata": {},
   "outputs": [
    {
     "data": {
      "text/plain": [
       "<div class=\"propertyFeature bedroom\">\n",
       "<p>4</p>\n",
       "<span class=\"icon\"></span>\n",
       "</div>"
      ]
     },
     "execution_count": 77,
     "metadata": {},
     "output_type": "execute_result"
    }
   ],
   "source": [
    "div2 = page_soup.find(\"div\", {\"class\": \"propertyFeature bedroom\"})\n",
    "div2"
   ]
  },
  {
   "cell_type": "code",
   "execution_count": 78,
   "metadata": {},
   "outputs": [
    {
     "data": {
      "text/plain": [
       "<div class=\"propertyFeature bathroom\">\n",
       "<p>6</p>\n",
       "<span class=\"icon\"></span>\n",
       "</div>"
      ]
     },
     "execution_count": 78,
     "metadata": {},
     "output_type": "execute_result"
    }
   ],
   "source": [
    "div3 = page_soup.find(\"div\", {\"class\": \"propertyFeature bathroom\"})\n",
    "div3"
   ]
  },
  {
   "cell_type": "code",
   "execution_count": 79,
   "metadata": {},
   "outputs": [
    {
     "data": {
      "text/plain": [
       "<div class=\"propertyFeature garage\">\n",
       "<p>3</p>\n",
       "<span class=\"icon\"></span>\n",
       "</div>"
      ]
     },
     "execution_count": 79,
     "metadata": {},
     "output_type": "execute_result"
    }
   ],
   "source": [
    "div4 = page_soup.find(\"div\", {\"class\": \"propertyFeature garage\"})\n",
    "div4"
   ]
  },
  {
   "cell_type": "markdown",
   "metadata": {},
   "source": [
    "From the above we could extract:\n",
    "- Number of Bedrooms\n",
    "- Number of Bathrooms\n",
    "- Number of Garages?"
   ]
  },
  {
   "cell_type": "code",
   "execution_count": 93,
   "metadata": {},
   "outputs": [],
   "source": [
    "div5 = page_soup.find(\"span\", {\"class\": \"totalVal\"})"
   ]
  },
  {
   "cell_type": "code",
   "execution_count": 95,
   "metadata": {},
   "outputs": [
    {
     "data": {
      "text/plain": [
       "'<span class=\"totalVal\">\\n                            R97,750,000\\n                        </span>'"
      ]
     },
     "execution_count": 95,
     "metadata": {},
     "output_type": "execute_result"
    }
   ],
   "source": [
    "str(div5)"
   ]
  },
  {
   "cell_type": "code",
   "execution_count": null,
   "metadata": {},
   "outputs": [],
   "source": []
  }
 ],
 "metadata": {
  "kernelspec": {
   "display_name": "Python 3",
   "language": "python",
   "name": "python3"
  },
  "language_info": {
   "codemirror_mode": {
    "name": "ipython",
    "version": 3
   },
   "file_extension": ".py",
   "mimetype": "text/x-python",
   "name": "python",
   "nbconvert_exporter": "python",
   "pygments_lexer": "ipython3",
   "version": "3.7.3"
  }
 },
 "nbformat": 4,
 "nbformat_minor": 2
}
