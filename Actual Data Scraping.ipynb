{
 "cells": [
  {
   "cell_type": "markdown",
   "metadata": {},
   "source": [
    "# Data Scraping\n",
    "\n",
    "We're going to scrape data from the https://www.pamgolding.co.za/ website.\n",
    "\n",
    "Looking at having the following features extracted:\n",
    "- **houseID (int)**: unique property identifier\n",
    "- **type (string)**: 'house' or 'apartment'\n",
    "- **location/area(string)**: area of property, each area contains many suburbs\n",
    "- **Building size (int)**: size of building in $m^2$\n",
    "- **Number of bedrooms (float)**: number of bedrooms on property\n",
    "- **Number of Bathrooms (float)**: number of bathrooms on property\n",
    "- **Number of Garages(float)**: number of garages on property\n",
    "- **price (int)**: price of property in ZAR\n",
    "\n",
    "\n",
    "\n",
    "Todo:\n",
    "- data-date (datetime): date on which property was first listed\n",
    "- data-isonshow (bool): 'True' if property was on show at the time\n",
    "    of scraping the data"
   ]
  },
  {
   "cell_type": "code",
   "execution_count": 3,
   "metadata": {},
   "outputs": [],
   "source": [
    "import requests as rq\n",
    "import bs4 as bs\n",
    "import traceback\n",
    "from selenium import webdriver\n",
    "from selenium.webdriver.support.ui import WebDriverWait\n",
    "from selenium.webdriver.common.by import By\n",
    "from selenium.webdriver.support import expected_conditions as EC\n",
    "from selenium.common.exceptions import TimeoutException\n",
    "from selenium.webdriver.common.keys import Keys\n",
    "import glob, os, time"
   ]
  },
  {
   "cell_type": "code",
   "execution_count": 56,
   "metadata": {},
   "outputs": [],
   "source": [
    "# # run the bellow file, if it gives an erro, it means you need to install chrome driver and put it in your path\n",
    "# # this opens a chrome \"site\" based on the link below which we will scrape from\n",
    "driver = webdriver.Chrome(executable_path=\"/home/cate/Downloads/chromedriver_linux64/chromedriver\")\n",
    "driver.get(\"https://www.property24.com/for-sale/cape-town/western-cape/432?PropertyCategory=House%2cApartmentOrFlat%2cTownhouse\")"
   ]
  },
  {
   "cell_type": "code",
   "execution_count": 18,
   "metadata": {},
   "outputs": [],
   "source": [
    "page_soup = bs.BeautifulSoup(driver.page_source,'lxml')"
   ]
  },
  {
   "cell_type": "code",
   "execution_count": null,
   "metadata": {},
   "outputs": [],
   "source": [
    "#dict_data = {\"location\" :[], \"price\":[], \"floor_size\":[], \"bathrooms\":[], \"bedrooms\":[],\"parking\":[] }\n",
    "#info = page_soup.find_all(\"div\", class_= \"p24_information\")\n",
    "# for values in info:\n",
    "#     price = values.find('div', class_= 'p24_price').text\n",
    "#     location = values.find('span', class_= \"p24_location\").text\n",
    "    \n",
    "#     dict_data[\"location\"].append(location)\n",
    "#     dict_data[\"price\"].append(price)"
   ]
  },
  {
   "cell_type": "code",
   "execution_count": 16,
   "metadata": {},
   "outputs": [],
   "source": [
    "#icons = page_soup.find_all(\"div\", class_= \"p24_icons\")"
   ]
  },
  {
   "cell_type": "code",
   "execution_count": 54,
   "metadata": {},
   "outputs": [],
   "source": [
    "#all_items = page_soup.find_all(\"div\", class_=\"js_listingResultsContainer\")"
   ]
  },
  {
   "cell_type": "code",
   "execution_count": 68,
   "metadata": {},
   "outputs": [
    {
     "data": {
      "text/plain": [
       "[]"
      ]
     },
     "execution_count": 68,
     "metadata": {},
     "output_type": "execute_result"
    }
   ],
   "source": [
    "icons"
   ]
  },
  {
   "cell_type": "code",
   "execution_count": 69,
   "metadata": {},
   "outputs": [],
   "source": [
    "dict_data = {\"location\" :[], \"price\":[], \"floor_size\":[], \"bathrooms\":[], \"bedrooms\":[],\"parking\":[] }\n",
    "icons = page_soup.find_all(\"span\", class_= \"p24_icons\")\n",
    "info = page_soup.find_all(\"div\", class_= \"p24_regularTile js_rollover_container\")\n",
    "def getValues(icons, info):\n",
    "    \n",
    "    for values in info:\n",
    "        price = values.find('span', class_= 'p24_price')\n",
    "        if price:\n",
    "            price = price.text\n",
    "        else:\n",
    "            \"\"\n",
    "        location = values.find('span', class_= \"p24_location\")\n",
    "        if location:\n",
    "            location = location.text \n",
    "        else:\n",
    "            \"\"\n",
    "        \n",
    "        dict_data[\"price\"].append(price)\n",
    "        dict_data[\"location\"].append(location)\n",
    "        #print(price)\n",
    "\n",
    "    for value in icons:\n",
    "        floor_size = value.find(\"span\", class_= \"p24_size\")\n",
    "        if floor_size:\n",
    "            floor_size = floor_size.find(\"span\").text\n",
    "        else:\n",
    "            \"\"\n",
    "        bathrooms = value.find(\"span\", {\"title\": \"Bathrooms\"})\n",
    "        if bathrooms:\n",
    "            bathrooms = bathrooms.find(\"span\").text\n",
    "        else:\n",
    "            \"\"\n",
    "        bedrooms = value.find(\"span\", {\"title\": \"Bedrooms\"})\n",
    "        if bedrooms:\n",
    "            bedrooms = bedrooms.find(\"span\").text\n",
    "        else:\n",
    "            \"\"\n",
    "        parking = value.find(\"span\", {\"title\": \"Parking Spaces\"})\n",
    "        if parking:\n",
    "            parking = parking.find(\"span\").text\n",
    "        else: \n",
    "            \"\"\n",
    "        dict_data[\"floor_size\"].append(floor_size)\n",
    "        dict_data[\"bathrooms\"].append(bathrooms)\n",
    "        dict_data[\"bedrooms\"].append(bedrooms)\n",
    "        dict_data[\"parking\"].append(parking)\n",
    "    return dict_data"
   ]
  },
  {
   "cell_type": "code",
   "execution_count": 70,
   "metadata": {},
   "outputs": [],
   "source": [
    "dict_data = getValues(icons, info)"
   ]
  },
  {
   "cell_type": "code",
   "execution_count": 71,
   "metadata": {},
   "outputs": [
    {
     "data": {
      "text/plain": [
       "{'location': ['Tokai',\n",
       "  'Camps Bay',\n",
       "  'Kenilworth Upper',\n",
       "  'Gardens',\n",
       "  'Sea Point',\n",
       "  'Parkwood',\n",
       "  'Bantry Bay',\n",
       "  'Tokai',\n",
       "  'Sea Point',\n",
       "  'Kenilworth',\n",
       "  'Sea Point',\n",
       "  'Zonnebloem',\n",
       "  'Retreat',\n",
       "  'Thornton',\n",
       "  'Waterfront',\n",
       "  'Tamboerskloof',\n",
       "  'Langa',\n",
       "  'Southfield',\n",
       "  'Pinelands',\n",
       "  'Claremont Upper',\n",
       "  'Observatory'],\n",
       " 'price': ['\\n\\n            R 4\\xa0450\\xa0000\\n        ',\n",
       "  '\\n\\n            R 13\\xa0950\\xa0000\\n        ',\n",
       "  '\\n\\n            R 20\\xa0000\\xa0000\\n        ',\n",
       "  '\\n\\n            R 4\\xa0850\\xa0000\\n        ',\n",
       "  '\\n\\n            R 4\\xa0950\\xa0000\\n        ',\n",
       "  '\\n\\n            R 690\\xa0000\\n        ',\n",
       "  '\\n\\n            R 3\\xa0500\\xa0000\\n        ',\n",
       "  '\\n\\n            R 4\\xa0450\\xa0000\\n        ',\n",
       "  '\\n\\n            R 6\\xa0250\\xa0000\\n        ',\n",
       "  '\\n\\n            R 1\\xa0500\\xa0000\\n        ',\n",
       "  '\\n\\n            R 2\\xa0850\\xa0000\\n        ',\n",
       "  '\\n\\n            R 1\\xa0090\\xa0000\\n        ',\n",
       "  '\\n\\n            R 1\\xa0695\\xa0000\\n        ',\n",
       "  '\\n\\n            R 720\\xa0000\\n        ',\n",
       "  '\\n\\n            R 8\\xa0500\\xa0000\\n        ',\n",
       "  '\\n\\n            R 4\\xa0950\\xa0000\\n        ',\n",
       "  '\\n\\n            R 849\\xa0000\\n        ',\n",
       "  '\\n\\n            R 2\\xa0395\\xa0000\\n        ',\n",
       "  '\\n\\n            R 3\\xa0250\\xa0000\\n        ',\n",
       "  '\\n\\n            R 1\\xa0599\\xa0000\\n        ',\n",
       "  '\\n\\n            R 1\\xa0900\\xa0000\\n        '],\n",
       " 'floor_size': ['1 085 m²',\n",
       "  '659 m²',\n",
       "  '2 842 m²',\n",
       "  '252 m²',\n",
       "  '281 m²',\n",
       "  None,\n",
       "  '86 m²',\n",
       "  '1 085 m²',\n",
       "  '140 m²',\n",
       "  None,\n",
       "  '67 m²',\n",
       "  '32 m²',\n",
       "  None,\n",
       "  None,\n",
       "  '126 m²',\n",
       "  '93 m²',\n",
       "  '256 m²',\n",
       "  '530 m²',\n",
       "  '818 m²',\n",
       "  '54 m²',\n",
       "  '65 m²'],\n",
       " 'bathrooms': ['3',\n",
       "  '3.5',\n",
       "  '8',\n",
       "  '4.5',\n",
       "  '2',\n",
       "  '1',\n",
       "  '1',\n",
       "  '3',\n",
       "  '3',\n",
       "  '1',\n",
       "  '2',\n",
       "  '1',\n",
       "  '2',\n",
       "  '1',\n",
       "  '1',\n",
       "  '2',\n",
       "  '2',\n",
       "  '2',\n",
       "  '2',\n",
       "  '1',\n",
       "  '2'],\n",
       " 'bedrooms': ['4',\n",
       "  '4',\n",
       "  '8',\n",
       "  '4',\n",
       "  '2',\n",
       "  '3',\n",
       "  '2',\n",
       "  '4',\n",
       "  '3',\n",
       "  '2',\n",
       "  '1',\n",
       "  None,\n",
       "  '5',\n",
       "  '1',\n",
       "  '1',\n",
       "  '2',\n",
       "  '4',\n",
       "  '4',\n",
       "  '3',\n",
       "  '1',\n",
       "  '2'],\n",
       " 'parking': ['5',\n",
       "  '4',\n",
       "  '11',\n",
       "  '2',\n",
       "  '1',\n",
       "  '6',\n",
       "  None,\n",
       "  '5',\n",
       "  '2',\n",
       "  '2',\n",
       "  '1',\n",
       "  '1',\n",
       "  None,\n",
       "  '1',\n",
       "  '1',\n",
       "  '1',\n",
       "  '2',\n",
       "  '4',\n",
       "  '3',\n",
       "  '1',\n",
       "  '1']}"
      ]
     },
     "execution_count": 71,
     "metadata": {},
     "output_type": "execute_result"
    }
   ],
   "source": [
    "dict_data"
   ]
  },
  {
   "cell_type": "code",
   "execution_count": 72,
   "metadata": {},
   "outputs": [],
   "source": [
    "import csv\n",
    "from csv import writer\n",
    "def append_list_as_row(file_name, dict_data, field_names):\n",
    "    # Open file in append mode\n",
    "    with open(file_name, 'a+', newline='') as write_obj:\n",
    "        # Create a writer object from csv module\n",
    "        writer = csv.DictWriter(write_obj, fieldnames = field_names)\n",
    "        writer.writerow(dict_data)"
   ]
  },
  {
   "cell_type": "code",
   "execution_count": 78,
   "metadata": {},
   "outputs": [
    {
     "name": "stdout",
     "output_type": "stream",
     "text": [
      "503\r"
     ]
    },
    {
     "ename": "KeyboardInterrupt",
     "evalue": "",
     "output_type": "error",
     "traceback": [
      "\u001b[0;31m---------------------------------------------------------------------------\u001b[0m",
      "\u001b[0;31mKeyboardInterrupt\u001b[0m                         Traceback (most recent call last)",
      "\u001b[0;32m<ipython-input-78-5ce8779892bf>\u001b[0m in \u001b[0;36m<module>\u001b[0;34m\u001b[0m\n\u001b[1;32m     20\u001b[0m         \u001b[0mprint\u001b[0m\u001b[0;34m(\u001b[0m\u001b[0;34mf'{count}\\r'\u001b[0m\u001b[0;34m,\u001b[0m \u001b[0mend\u001b[0m \u001b[0;34m=\u001b[0m \u001b[0;34m\"\"\u001b[0m\u001b[0;34m)\u001b[0m\u001b[0;34m\u001b[0m\u001b[0;34m\u001b[0m\u001b[0m\n\u001b[1;32m     21\u001b[0m         \u001b[0mloadmore\u001b[0m \u001b[0;34m=\u001b[0m \u001b[0mdriver\u001b[0m\u001b[0;34m.\u001b[0m\u001b[0mfind_element_by_link_text\u001b[0m\u001b[0;34m(\u001b[0m\u001b[0;34m\"Next\"\u001b[0m\u001b[0;34m)\u001b[0m\u001b[0;34m.\u001b[0m\u001b[0mclick\u001b[0m\u001b[0;34m(\u001b[0m\u001b[0;34m)\u001b[0m\u001b[0;34m\u001b[0m\u001b[0;34m\u001b[0m\u001b[0m\n\u001b[0;32m---> 22\u001b[0;31m         \u001b[0mtime\u001b[0m\u001b[0;34m.\u001b[0m\u001b[0msleep\u001b[0m\u001b[0;34m(\u001b[0m\u001b[0;36m5\u001b[0m\u001b[0;34m)\u001b[0m\u001b[0;34m\u001b[0m\u001b[0;34m\u001b[0m\u001b[0m\n\u001b[0m\u001b[1;32m     23\u001b[0m         \u001b[0;31m#loadmore.send_keys(Keys.ENTER)\u001b[0m\u001b[0;34m\u001b[0m\u001b[0;34m\u001b[0m\u001b[0;34m\u001b[0m\u001b[0m\n\u001b[1;32m     24\u001b[0m \u001b[0;34m\u001b[0m\u001b[0m\n",
      "\u001b[0;31mKeyboardInterrupt\u001b[0m: "
     ]
    }
   ],
   "source": [
    "driver = webdriver.Chrome(executable_path=\"/home/cate/Downloads/chromedriver_linux64/chromedriver\")\n",
    "driver.get(\"https://www.property24.com/for-sale/cape-town/western-cape/432?PropertyCategory=House%2cApartmentOrFlat%2cTownhouse\")\n",
    "\n",
    "page_soup = bs.BeautifulSoup(driver.page_source,'lxml')\n",
    "count= 0\n",
    "\n",
    "csv_file = \"final.csv\"\n",
    "\n",
    "while True:\n",
    "    try:\n",
    "        driver.implicitly_wait(10)\n",
    "        page_soup = bs.BeautifulSoup(driver.page_source,'lxml')\n",
    "        icons = page_soup.find_all(\"span\", class_= \"p24_icons\")\n",
    "        info = page_soup.find_all(\"div\", class_= \"p24_regularTile js_rollover_container\")\n",
    "        dict_data = {\"location\" :[], \"price\":[], \"floor_size\":[], \"bathrooms\":[], \"bedrooms\":[],\"parking\":[] }\n",
    "        dict_data = getValues(icons, info)\n",
    "        field_names = dict_data.keys()\n",
    "        append_list_as_row('final.csv', dict_data, field_names)\n",
    "        count+= 1\n",
    "        print(f'{count}\\r', end = \"\")\n",
    "        loadmore = driver.find_element_by_link_text(\"Next\").click()\n",
    "        time.sleep(5)\n",
    "        #loadmore.send_keys(Keys.ENTER)\n",
    "        \n",
    "    except Exception:\n",
    "        print(\"Reached bottom of page\")\n",
    "        traceback.print_exc()\n",
    "        break"
   ]
  },
  {
   "cell_type": "code",
   "execution_count": null,
   "metadata": {},
   "outputs": [],
   "source": []
  },
  {
   "cell_type": "code",
   "execution_count": null,
   "metadata": {},
   "outputs": [],
   "source": []
  }
 ],
 "metadata": {
  "kernelspec": {
   "display_name": "Python 3",
   "language": "python",
   "name": "python3"
  },
  "language_info": {
   "codemirror_mode": {
    "name": "ipython",
    "version": 3
   },
   "file_extension": ".py",
   "mimetype": "text/x-python",
   "name": "python",
   "nbconvert_exporter": "python",
   "pygments_lexer": "ipython3",
   "version": "3.7.3"
  }
 },
 "nbformat": 4,
 "nbformat_minor": 2
}
