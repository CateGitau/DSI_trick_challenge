{
  "nbformat": 4,
  "nbformat_minor": 0,
  "metadata": {
    "kernelspec": {
      "display_name": "Python 3",
      "language": "python",
      "name": "python3"
    },
    "language_info": {
      "codemirror_mode": {
        "name": "ipython",
        "version": 3
      },
      "file_extension": ".py",
      "mimetype": "text/x-python",
      "name": "python",
      "nbconvert_exporter": "python",
      "pygments_lexer": "ipython3",
      "version": "3.7.3"
    },
    "colab": {
      "name": "c_houseprice_predictions.ipynb",
      "provenance": []
    }
  },
  "cells": [
    {
      "cell_type": "markdown",
      "metadata": {
        "id": "9Ov0dPVjXvpo",
        "colab_type": "text"
      },
      "source": [
        "# Twist Challenge: House Price Regression\n",
        "\n",
        "The City of Cape Town wants to automate the valuation of properties in CapeTown based on various physical properties(size, number of bedrooms/bathrooms, location etc).\n",
        "\n",
        "\n",
        "We aim to build a model that will be able to predict the prices of houses in CapeTown based on the features scraped from the property24 website https://www.property24.com/"
      ]
    },
    {
      "cell_type": "code",
      "metadata": {
        "id": "XPh8mmVPYNl5",
        "colab_type": "code",
        "colab": {
          "base_uri": "https://localhost:8080/",
          "height": 34
        },
        "outputId": "7f39541c-1714-437b-f4fb-04240752fba4"
      },
      "source": [
        "from google.colab import drive\n",
        "drive.mount('/content/drive')"
      ],
      "execution_count": 1,
      "outputs": [
        {
          "output_type": "stream",
          "text": [
            "Mounted at /content/drive\n"
          ],
          "name": "stdout"
        }
      ]
    },
    {
      "cell_type": "code",
      "metadata": {
        "id": "SnbVJeR6Xvpt",
        "colab_type": "code",
        "colab": {
          "base_uri": "https://localhost:8080/",
          "height": 34
        },
        "outputId": "543bf624-73b4-4bcb-dc1c-4f153c24a5a2"
      },
      "source": [
        "#import some necessary librairies\n",
        "\n",
        "import numpy as np\n",
        "import pandas as pd\n",
        "pd.set_option('display.float_format', lambda x: '%.3f' % x)\n",
        "import matplotlib.pyplot as plt\n",
        "%matplotlib inline\n",
        "import seaborn as sns\n",
        "sns.set(style='darkgrid', context='notebook', palette='viridis')\n",
        "sns.despine(top=True,right=True)\n",
        "\n",
        "from scipy import stats\n",
        "from scipy.stats import norm, skew\n",
        "from scipy.special import boxcox1p\n",
        "from scipy.stats import boxcox_normmax\n",
        "\n",
        "from sklearn.linear_model import LinearRegression\n",
        "from sklearn import metrics\n",
        "from sklearn.linear_model import Lasso\n",
        "from sklearn.pipeline import make_pipeline\n",
        "from sklearn.preprocessing import RobustScaler,StandardScaler,LabelEncoder"
      ],
      "execution_count": 166,
      "outputs": [
        {
          "output_type": "display_data",
          "data": {
            "text/plain": [
              "<Figure size 432x288 with 0 Axes>"
            ]
          },
          "metadata": {
            "tags": []
          }
        }
      ]
    },
    {
      "cell_type": "markdown",
      "metadata": {
        "id": "jdpho_XeXvp-",
        "colab_type": "text"
      },
      "source": [
        "# Data Preparation"
      ]
    },
    {
      "cell_type": "code",
      "metadata": {
        "id": "3ZnJAkCbXvqG",
        "colab_type": "code",
        "colab": {}
      },
      "source": [
        "data_kel = pd.read_csv(\"/content/drive/My Drive/listings.csv\")\n",
        "data_cate = pd.read_csv(\"/content/drive/My Drive/final_cleaner.csv\")"
      ],
      "execution_count": 167,
      "outputs": []
    },
    {
      "cell_type": "code",
      "metadata": {
        "id": "v_NQMTaHUaxh",
        "colab_type": "code",
        "colab": {}
      },
      "source": [
        "#data_kel.head()\n",
        "\n",
        "data_kel.replace('nan', np.nan, inplace=True)\n",
        "data_kel.replace('NaN', np.nan, inplace=True)"
      ],
      "execution_count": 168,
      "outputs": []
    },
    {
      "cell_type": "code",
      "metadata": {
        "id": "uNi_B9SVXvqf",
        "colab_type": "code",
        "colab": {
          "base_uri": "https://localhost:8080/",
          "height": 34
        },
        "outputId": "e3797f6d-a06a-439e-8e9f-9b34fe3f18c2"
      },
      "source": [
        "data_cate.replace('None', np.nan, inplace=True)\n",
        "data_cate.replace('NaN', np.nan, inplace=True)\n",
        "data_cate.isna().sum().sum()"
      ],
      "execution_count": 169,
      "outputs": [
        {
          "output_type": "execute_result",
          "data": {
            "text/plain": [
              "2694"
            ]
          },
          "metadata": {
            "tags": []
          },
          "execution_count": 169
        }
      ]
    },
    {
      "cell_type": "code",
      "metadata": {
        "id": "na2xR-G5U2NX",
        "colab_type": "code",
        "colab": {
          "base_uri": "https://localhost:8080/",
          "height": 206
        },
        "outputId": "ec98ff96-654f-4d10-b9c3-47e9cbb2d021"
      },
      "source": [
        "data_kel.head()"
      ],
      "execution_count": 170,
      "outputs": [
        {
          "output_type": "execute_result",
          "data": {
            "text/html": [
              "<div>\n",
              "<style scoped>\n",
              "    .dataframe tbody tr th:only-of-type {\n",
              "        vertical-align: middle;\n",
              "    }\n",
              "\n",
              "    .dataframe tbody tr th {\n",
              "        vertical-align: top;\n",
              "    }\n",
              "\n",
              "    .dataframe thead th {\n",
              "        text-align: right;\n",
              "    }\n",
              "</style>\n",
              "<table border=\"1\" class=\"dataframe\">\n",
              "  <thead>\n",
              "    <tr style=\"text-align: right;\">\n",
              "      <th></th>\n",
              "      <th>Location</th>\n",
              "      <th>Price</th>\n",
              "      <th>Bedrooms</th>\n",
              "      <th>Bathrooms</th>\n",
              "      <th>Parking</th>\n",
              "      <th>Floor Size</th>\n",
              "      <th>Erf Size</th>\n",
              "      <th>Description</th>\n",
              "    </tr>\n",
              "  </thead>\n",
              "  <tbody>\n",
              "    <tr>\n",
              "      <th>0</th>\n",
              "      <td>Waterfront</td>\n",
              "      <td>28000000</td>\n",
              "      <td>3.000</td>\n",
              "      <td>3.000</td>\n",
              "      <td>2.000</td>\n",
              "      <td>192.000</td>\n",
              "      <td>nan</td>\n",
              "      <td>NaN</td>\n",
              "    </tr>\n",
              "    <tr>\n",
              "      <th>1</th>\n",
              "      <td>Waterfront</td>\n",
              "      <td>55000000</td>\n",
              "      <td>3.000</td>\n",
              "      <td>3.500</td>\n",
              "      <td>2.000</td>\n",
              "      <td>410.000</td>\n",
              "      <td>nan</td>\n",
              "      <td>NaN</td>\n",
              "    </tr>\n",
              "    <tr>\n",
              "      <th>2</th>\n",
              "      <td>Constantia</td>\n",
              "      <td>5995000</td>\n",
              "      <td>3.000</td>\n",
              "      <td>3.000</td>\n",
              "      <td>3.000</td>\n",
              "      <td>nan</td>\n",
              "      <td>1487.000</td>\n",
              "      <td>If Position, Presentation and Pric...</td>\n",
              "    </tr>\n",
              "    <tr>\n",
              "      <th>3</th>\n",
              "      <td>Constantia</td>\n",
              "      <td>4950000</td>\n",
              "      <td>nan</td>\n",
              "      <td>nan</td>\n",
              "      <td>nan</td>\n",
              "      <td>nan</td>\n",
              "      <td>2448.000</td>\n",
              "      <td>NaN</td>\n",
              "    </tr>\n",
              "    <tr>\n",
              "      <th>4</th>\n",
              "      <td>Pinelands</td>\n",
              "      <td>1895000</td>\n",
              "      <td>2.000</td>\n",
              "      <td>1.000</td>\n",
              "      <td>2.000</td>\n",
              "      <td>75.000</td>\n",
              "      <td>nan</td>\n",
              "      <td>New release - Joint mandate.Move r...</td>\n",
              "    </tr>\n",
              "  </tbody>\n",
              "</table>\n",
              "</div>"
            ],
            "text/plain": [
              "     Location  ...                                        Description\n",
              "0  Waterfront  ...                                                NaN\n",
              "1  Waterfront  ...                                                NaN\n",
              "2  Constantia  ...              If Position, Presentation and Pric...\n",
              "3  Constantia  ...                                                NaN\n",
              "4   Pinelands  ...              New release - Joint mandate.Move r...\n",
              "\n",
              "[5 rows x 8 columns]"
            ]
          },
          "metadata": {
            "tags": []
          },
          "execution_count": 170
        }
      ]
    },
    {
      "cell_type": "markdown",
      "metadata": {
        "id": "zrv3zwNPUTuE",
        "colab_type": "text"
      },
      "source": [
        "## Merging Kelly's Data"
      ]
    },
    {
      "cell_type": "code",
      "metadata": {
        "id": "F3DWxffJUSyi",
        "colab_type": "code",
        "colab": {
          "base_uri": "https://localhost:8080/",
          "height": 34
        },
        "outputId": "5ffcbe4a-b08a-4ba6-d741-5267723f968c"
      },
      "source": [
        "# drop Erf and Description\n",
        "data_kel = data_kel.drop(['Erf Size', 'Description'], axis = 1)\n",
        "\n",
        "#make column names to lower\n",
        "data_kel.columns= data_kel.columns.str.lower()\n",
        "\n",
        "# renaming columns to match mine\n",
        "data_kel.columns = ['location', 'price', 'bedrooms','bathrooms', 'parking', 'floor_size']\n",
        "\n",
        "merged = data_cate.append(data_kel)\n",
        "merged2 = merged.drop_duplicates()\n",
        "len(merged2)"
      ],
      "execution_count": 171,
      "outputs": [
        {
          "output_type": "execute_result",
          "data": {
            "text/plain": [
              "14922"
            ]
          },
          "metadata": {
            "tags": []
          },
          "execution_count": 171
        }
      ]
    },
    {
      "cell_type": "markdown",
      "metadata": {
        "id": "k1MKGDfTXvqs",
        "colab_type": "text"
      },
      "source": [
        "## Dealing with Missing data\n",
        "\n",
        "- Dropped rows with more than two NA's\n",
        "- Filled bedrooms, bathrooms and garages with 0\n",
        "- deleted rows with no price value\n",
        "\n",
        "We decided to go with this approach mainly because of the little time that we had. If we had more time we could've explored why the data was missing and found ways of dealing with them such as imputation or predicting the missing values."
      ]
    },
    {
      "cell_type": "code",
      "metadata": {
        "id": "GZwcrZs8Xvqu",
        "colab_type": "code",
        "colab": {}
      },
      "source": [
        "#drop rows with more than one NA\n",
        "df = merged2.dropna(thresh=merged2.shape[1]-2)\n",
        "df = df.copy()"
      ],
      "execution_count": 172,
      "outputs": []
    },
    {
      "cell_type": "code",
      "metadata": {
        "id": "OJ876l_kXvq3",
        "colab_type": "code",
        "colab": {}
      },
      "source": [
        "#change garage to zero if NaN\n",
        "df['parking'] = df['parking'].transform(lambda x: x.fillna(0))\n",
        "df['bathrooms'] = df['bathrooms'].transform(lambda x: x.fillna(0))\n",
        "df['bedrooms'] = df['bedrooms'].transform(lambda x: x.fillna(0))"
      ],
      "execution_count": 173,
      "outputs": []
    },
    {
      "cell_type": "code",
      "metadata": {
        "id": "iLatkA_rYs7W",
        "colab_type": "code",
        "colab": {
          "base_uri": "https://localhost:8080/",
          "height": 34
        },
        "outputId": "140b5e12-fed0-4cce-e651-74723623b70a"
      },
      "source": [
        "df.isna().sum().sum()"
      ],
      "execution_count": 174,
      "outputs": [
        {
          "output_type": "execute_result",
          "data": {
            "text/plain": [
              "3653"
            ]
          },
          "metadata": {
            "tags": []
          },
          "execution_count": 174
        }
      ]
    },
    {
      "cell_type": "code",
      "metadata": {
        "id": "0NuXxKmRXvrA",
        "colab_type": "code",
        "colab": {}
      },
      "source": [
        "#drop all other missing values\n",
        "df = df.dropna()"
      ],
      "execution_count": 175,
      "outputs": []
    },
    {
      "cell_type": "code",
      "metadata": {
        "id": "j125nTJGXvrI",
        "colab_type": "code",
        "colab": {
          "base_uri": "https://localhost:8080/",
          "height": 34
        },
        "outputId": "1e93302a-da98-4efe-adbb-8423cdc1dce2"
      },
      "source": [
        "df.shape"
      ],
      "execution_count": 176,
      "outputs": [
        {
          "output_type": "execute_result",
          "data": {
            "text/plain": [
              "(10469, 6)"
            ]
          },
          "metadata": {
            "tags": []
          },
          "execution_count": 176
        }
      ]
    },
    {
      "cell_type": "markdown",
      "metadata": {
        "id": "56qdRtQ1XvrT",
        "colab_type": "text"
      },
      "source": [
        "Total Data Now becomes:\n",
        "\n",
        "- **7679** rows of data\n",
        "    - Features include:\n",
        "     - location, price, floor_size, bathrooms, bedrooms, parking"
      ]
    },
    {
      "cell_type": "code",
      "metadata": {
        "id": "kE4OHFukXvrd",
        "colab_type": "code",
        "colab": {}
      },
      "source": [
        "#change NA to zero \n",
        "df = df.replace(np.nan, 0)"
      ],
      "execution_count": 177,
      "outputs": []
    },
    {
      "cell_type": "code",
      "metadata": {
        "id": "A0ooyuuaXvrs",
        "colab_type": "code",
        "colab": {
          "base_uri": "https://localhost:8080/",
          "height": 34
        },
        "outputId": "2013da6a-216c-47e7-8f8c-acd2f6017831"
      },
      "source": [
        "#checking for missing values\n",
        "df.isna().sum().sum()"
      ],
      "execution_count": 178,
      "outputs": [
        {
          "output_type": "execute_result",
          "data": {
            "text/plain": [
              "0"
            ]
          },
          "metadata": {
            "tags": []
          },
          "execution_count": 178
        }
      ]
    },
    {
      "cell_type": "markdown",
      "metadata": {
        "id": "KU0y-PZ0Xvr3",
        "colab_type": "text"
      },
      "source": [
        "# Data Exploration and Preparation"
      ]
    },
    {
      "cell_type": "code",
      "metadata": {
        "id": "v9tvxqGVXvr4",
        "colab_type": "code",
        "colab": {
          "base_uri": "https://localhost:8080/",
          "height": 243
        },
        "outputId": "cfe71d43-81c2-453d-a23b-5bc4dbd6bf98"
      },
      "source": [
        "df.info()"
      ],
      "execution_count": 179,
      "outputs": [
        {
          "output_type": "stream",
          "text": [
            "<class 'pandas.core.frame.DataFrame'>\n",
            "Int64Index: 10469 entries, 0 to 8559\n",
            "Data columns (total 6 columns):\n",
            " #   Column      Non-Null Count  Dtype  \n",
            "---  ------      --------------  -----  \n",
            " 0   location    10469 non-null  object \n",
            " 1   price       10469 non-null  float64\n",
            " 2   floor_size  10469 non-null  object \n",
            " 3   bathrooms   10469 non-null  object \n",
            " 4   bedrooms    10469 non-null  object \n",
            " 5   parking     10469 non-null  object \n",
            "dtypes: float64(1), object(5)\n",
            "memory usage: 572.5+ KB\n"
          ],
          "name": "stdout"
        }
      ]
    },
    {
      "cell_type": "code",
      "metadata": {
        "id": "bCxjbSxLXvsC",
        "colab_type": "code",
        "colab": {}
      },
      "source": [
        "df = df.copy()"
      ],
      "execution_count": 180,
      "outputs": []
    },
    {
      "cell_type": "code",
      "metadata": {
        "id": "9uMaH6qCXvsL",
        "colab_type": "code",
        "colab": {}
      },
      "source": [
        "df['floor_size'] = df['floor_size'].apply(lambda x: str(x).replace(\" \", \"\").split())\n",
        "df['floor_size'] = df['floor_size'].apply(lambda x: str(x).replace(\"'\", \"\").split())\n",
        "df['floor_size'].replace('nan', np.nan, inplace=True)\n",
        "import re\n",
        "df['floor_size'] = df['floor_size'].apply(lambda x: re.sub(\"[^0-9]\", \"\",str(x)))\n",
        "df['floor_size'] = df['floor_size'].apply(lambda x: re.sub(r'(\\d)\\s+(\\d)', r'\\1\\2', str(x)))"
      ],
      "execution_count": 181,
      "outputs": []
    },
    {
      "cell_type": "code",
      "metadata": {
        "id": "Fkg5m6PAXvsU",
        "colab_type": "code",
        "colab": {}
      },
      "source": [
        "df[\"floor_size\"] = pd.to_numeric(df[\"floor_size\"])\n",
        "df[\"bathrooms\"] = pd.to_numeric(df[\"bathrooms\"])\n",
        "df[\"bedrooms\"] = pd.to_numeric(df[\"bedrooms\"])\n",
        "df[\"parking\"] = pd.to_numeric(df[\"parking\"])\n",
        "df[\"price\"] = pd.to_numeric(df[\"price\"])"
      ],
      "execution_count": 182,
      "outputs": []
    },
    {
      "cell_type": "code",
      "metadata": {
        "id": "4tGF_FSKXvsc",
        "colab_type": "code",
        "colab": {
          "base_uri": "https://localhost:8080/",
          "height": 300
        },
        "outputId": "e0800258-7762-4cbb-c69b-347b2d4830b6"
      },
      "source": [
        "df.describe()"
      ],
      "execution_count": 183,
      "outputs": [
        {
          "output_type": "execute_result",
          "data": {
            "text/html": [
              "<div>\n",
              "<style scoped>\n",
              "    .dataframe tbody tr th:only-of-type {\n",
              "        vertical-align: middle;\n",
              "    }\n",
              "\n",
              "    .dataframe tbody tr th {\n",
              "        vertical-align: top;\n",
              "    }\n",
              "\n",
              "    .dataframe thead th {\n",
              "        text-align: right;\n",
              "    }\n",
              "</style>\n",
              "<table border=\"1\" class=\"dataframe\">\n",
              "  <thead>\n",
              "    <tr style=\"text-align: right;\">\n",
              "      <th></th>\n",
              "      <th>price</th>\n",
              "      <th>floor_size</th>\n",
              "      <th>bathrooms</th>\n",
              "      <th>bedrooms</th>\n",
              "      <th>parking</th>\n",
              "    </tr>\n",
              "  </thead>\n",
              "  <tbody>\n",
              "    <tr>\n",
              "      <th>count</th>\n",
              "      <td>10469.000</td>\n",
              "      <td>10469.000</td>\n",
              "      <td>10469.000</td>\n",
              "      <td>10469.000</td>\n",
              "      <td>10469.000</td>\n",
              "    </tr>\n",
              "    <tr>\n",
              "      <th>mean</th>\n",
              "      <td>5277884.738</td>\n",
              "      <td>626.354</td>\n",
              "      <td>1.877</td>\n",
              "      <td>2.270</td>\n",
              "      <td>1.546</td>\n",
              "    </tr>\n",
              "    <tr>\n",
              "      <th>std</th>\n",
              "      <td>7634360.955</td>\n",
              "      <td>989.246</td>\n",
              "      <td>1.302</td>\n",
              "      <td>1.462</td>\n",
              "      <td>1.612</td>\n",
              "    </tr>\n",
              "    <tr>\n",
              "      <th>min</th>\n",
              "      <td>199000.000</td>\n",
              "      <td>17.000</td>\n",
              "      <td>0.000</td>\n",
              "      <td>0.000</td>\n",
              "      <td>0.000</td>\n",
              "    </tr>\n",
              "    <tr>\n",
              "      <th>25%</th>\n",
              "      <td>1795000.000</td>\n",
              "      <td>93.000</td>\n",
              "      <td>1.000</td>\n",
              "      <td>1.000</td>\n",
              "      <td>1.000</td>\n",
              "    </tr>\n",
              "    <tr>\n",
              "      <th>50%</th>\n",
              "      <td>2895000.000</td>\n",
              "      <td>420.000</td>\n",
              "      <td>1.500</td>\n",
              "      <td>2.000</td>\n",
              "      <td>1.000</td>\n",
              "    </tr>\n",
              "    <tr>\n",
              "      <th>75%</th>\n",
              "      <td>5385000.000</td>\n",
              "      <td>800.000</td>\n",
              "      <td>2.000</td>\n",
              "      <td>3.000</td>\n",
              "      <td>2.000</td>\n",
              "    </tr>\n",
              "    <tr>\n",
              "      <th>max</th>\n",
              "      <td>172500000.000</td>\n",
              "      <td>39423.000</td>\n",
              "      <td>30.000</td>\n",
              "      <td>33.000</td>\n",
              "      <td>30.000</td>\n",
              "    </tr>\n",
              "  </tbody>\n",
              "</table>\n",
              "</div>"
            ],
            "text/plain": [
              "              price  floor_size  bathrooms  bedrooms   parking\n",
              "count     10469.000   10469.000  10469.000 10469.000 10469.000\n",
              "mean    5277884.738     626.354      1.877     2.270     1.546\n",
              "std     7634360.955     989.246      1.302     1.462     1.612\n",
              "min      199000.000      17.000      0.000     0.000     0.000\n",
              "25%     1795000.000      93.000      1.000     1.000     1.000\n",
              "50%     2895000.000     420.000      1.500     2.000     1.000\n",
              "75%     5385000.000     800.000      2.000     3.000     2.000\n",
              "max   172500000.000   39423.000     30.000    33.000    30.000"
            ]
          },
          "metadata": {
            "tags": []
          },
          "execution_count": 183
        }
      ]
    },
    {
      "cell_type": "markdown",
      "metadata": {
        "id": "Q1EgQhdlXvsj",
        "colab_type": "text"
      },
      "source": [
        "From the above, we note that there might be outliers in the data looking at the min and max values of the features, we explore this further."
      ]
    },
    {
      "cell_type": "markdown",
      "metadata": {
        "id": "vjgPBCqtXvsk",
        "colab_type": "text"
      },
      "source": [
        "### split the data into train and test data\n",
        "\n",
        "- **Train** - Train data will be used to train our final model, this will later be split again into Train and validation(80%) **6114** train <br/> \n",
        "- **Test** - Final data for evaluating how good our model performmed (20%) **1535** test"
      ]
    },
    {
      "cell_type": "code",
      "metadata": {
        "id": "7k30yLGIXvsl",
        "colab_type": "code",
        "colab": {}
      },
      "source": [
        "import sklearn\n",
        "from sklearn.model_selection import train_test_split\n",
        "import random\n",
        "\n",
        "df = df.sample(frac=1).reset_index(drop=True)\n",
        "test, train = sklearn.model_selection.train_test_split(df, train_size=0.2, test_size=0.8)\n",
        "test = test.reset_index(drop=True)\n",
        "train = train.reset_index(drop=True)"
      ],
      "execution_count": 184,
      "outputs": []
    },
    {
      "cell_type": "code",
      "metadata": {
        "id": "OKrQXfSTXvst",
        "colab_type": "code",
        "colab": {
          "base_uri": "https://localhost:8080/",
          "height": 52
        },
        "outputId": "b1b031f4-908c-4b96-868b-d62612131134"
      },
      "source": [
        "print(\"Test shape:\",test.shape)\n",
        "print(\"Train shape:\",train.shape)"
      ],
      "execution_count": 185,
      "outputs": [
        {
          "output_type": "stream",
          "text": [
            "Test shape: (2093, 6)\n",
            "Train shape: (8376, 6)\n"
          ],
          "name": "stdout"
        }
      ]
    },
    {
      "cell_type": "code",
      "metadata": {
        "id": "1FLcFkVbXvs6",
        "colab_type": "code",
        "colab": {}
      },
      "source": [
        "# from pandas_profiling import ProfileReport\n",
        "# eda_train = train.copy()\n",
        "# ProfileReport(eda_train)"
      ],
      "execution_count": 186,
      "outputs": []
    },
    {
      "cell_type": "markdown",
      "metadata": {
        "id": "kL5ToovsXvtC",
        "colab_type": "text"
      },
      "source": [
        "## Checking normality of our target variable\n",
        "\n",
        "Skewed data can mess up the power of the predictive model if it is not addressed correctly.\n",
        "drawing a graph will let us know how the price values are distributed and we can start estimating the probability of events.\n",
        "\n",
        "Helps us to understand how far the data is from the mean.\n"
      ]
    },
    {
      "cell_type": "code",
      "metadata": {
        "id": "BtQezWrlZ0OG",
        "colab_type": "code",
        "colab": {
          "base_uri": "https://localhost:8080/",
          "height": 34
        },
        "outputId": "fd6d3073-6be4-4622-f5d4-281fccca0038"
      },
      "source": [
        "train['price'].skew()"
      ],
      "execution_count": 187,
      "outputs": [
        {
          "output_type": "execute_result",
          "data": {
            "text/plain": [
              "5.589243052181511"
            ]
          },
          "metadata": {
            "tags": []
          },
          "execution_count": 187
        }
      ]
    },
    {
      "cell_type": "code",
      "metadata": {
        "id": "3u1YugmhXvtD",
        "colab_type": "code",
        "colab": {
          "base_uri": "https://localhost:8080/",
          "height": 353
        },
        "outputId": "4c97f248-c13a-4310-e8fe-83f624bb0901"
      },
      "source": [
        "# Checking if our target variable is normally skewed\n",
        "import seaborn as sns\n",
        "def checkskew(col):\n",
        "    sns.distplot(train[col],fit=norm).set_title(\"Cape Town Housing Prices\")\n",
        "    (mu, sigma) = norm.fit(train[col])\n",
        "    print( '\\n mu = {:.2f} and sigma = {:.2f}\\n'.format(mu, sigma))\n",
        "checkskew('price')"
      ],
      "execution_count": 188,
      "outputs": [
        {
          "output_type": "stream",
          "text": [
            "\n",
            " mu = 5227862.52 and sigma = 7498442.84\n",
            "\n"
          ],
          "name": "stdout"
        },
        {
          "output_type": "display_data",
          "data": {
            "image/png": "[encoded data removed]",
            "text/plain": [
              "<Figure size 432x288 with 1 Axes>"
            ]
          },
          "metadata": {
            "tags": []
          }
        }
      ]
    },
    {
      "cell_type": "code",
      "metadata": {
        "id": "a2MAbO6mZnrQ",
        "colab_type": "code",
        "colab": {
          "base_uri": "https://localhost:8080/",
          "height": 34
        },
        "outputId": "af1bc6b0-c986-4560-d31b-963be3101f12"
      },
      "source": [
        "# removing skewness from the predictor\n",
        "train['price2'] = np.log(train['price'])\n",
        "train['price2'].skew()"
      ],
      "execution_count": 189,
      "outputs": [
        {
          "output_type": "execute_result",
          "data": {
            "text/plain": [
              "0.7304277053245446"
            ]
          },
          "metadata": {
            "tags": []
          },
          "execution_count": 189
        }
      ]
    },
    {
      "cell_type": "code",
      "metadata": {
        "id": "t4GmwiKGa6H2",
        "colab_type": "code",
        "colab": {
          "base_uri": "https://localhost:8080/",
          "height": 34
        },
        "outputId": "1e21a9a3-4f0c-48f2-9be1-2a5981de1594"
      },
      "source": [
        "test['price2'] = np.log(test['price'])\n",
        "test['price2'].skew()"
      ],
      "execution_count": 190,
      "outputs": [
        {
          "output_type": "execute_result",
          "data": {
            "text/plain": [
              "0.74806477488216"
            ]
          },
          "metadata": {
            "tags": []
          },
          "execution_count": 190
        }
      ]
    },
    {
      "cell_type": "code",
      "metadata": {
        "id": "v0ATvSxraNPV",
        "colab_type": "code",
        "colab": {
          "base_uri": "https://localhost:8080/",
          "height": 353
        },
        "outputId": "5d6f5746-2387-45f1-93b0-0040d417228f"
      },
      "source": [
        "checkskew('price2')"
      ],
      "execution_count": 191,
      "outputs": [
        {
          "output_type": "stream",
          "text": [
            "\n",
            " mu = 15.01 and sigma = 0.87\n",
            "\n"
          ],
          "name": "stdout"
        },
        {
          "output_type": "display_data",
          "data": {
            "image/png": "[encoded data removed]",
            "text/plain": [
              "<Figure size 432x288 with 1 Axes>"
            ]
          },
          "metadata": {
            "tags": []
          }
        }
      ]
    },
    {
      "cell_type": "markdown",
      "metadata": {
        "id": "QfrEUmdpXvtP",
        "colab_type": "text"
      },
      "source": [
        "### Checking for outliers"
      ]
    },
    {
      "cell_type": "code",
      "metadata": {
        "id": "fufjEKTFXvtR",
        "colab_type": "code",
        "colab": {
          "base_uri": "https://localhost:8080/",
          "height": 52
        },
        "outputId": "4e9d544a-919d-4f4c-e61e-a08d2443a037"
      },
      "source": [
        "print(\"max floor_size:\", max(train['floor_size']))\n",
        "print(\"min floor_size:\", min(train['floor_size']))"
      ],
      "execution_count": 192,
      "outputs": [
        {
          "output_type": "stream",
          "text": [
            "max floor_size: 22030\n",
            "min floor_size: 17\n"
          ],
          "name": "stdout"
        }
      ]
    },
    {
      "cell_type": "code",
      "metadata": {
        "id": "3vwp7nSJXvtY",
        "colab_type": "code",
        "colab": {
          "base_uri": "https://localhost:8080/",
          "height": 285
        },
        "outputId": "fe670322-18e7-4102-86d1-b0b472f3832f"
      },
      "source": [
        "fig, plot = plt.subplots()\n",
        "plot.scatter(x= train['price'], y = train['floor_size'])\n",
        "plt.ylabel('Building Size', fontsize=13)\n",
        "plt.xlabel('Price', fontsize=13)\n",
        "plt.show()"
      ],
      "execution_count": 193,
      "outputs": [
        {
          "output_type": "display_data",
          "data": {
            "image/png": "[encoded data removed]",
            "text/plain": [
              "<Figure size 432x288 with 1 Axes>"
            ]
          },
          "metadata": {
            "tags": []
          }
        }
      ]
    },
    {
      "cell_type": "code",
      "metadata": {
        "id": "WTy0shsOXvte",
        "colab_type": "code",
        "colab": {
          "base_uri": "https://localhost:8080/",
          "height": 285
        },
        "outputId": "e216521c-d16c-4220-9b30-5ee7c987196d"
      },
      "source": [
        "fig, plot = plt.subplots()\n",
        "plot.scatter(x= train['price'], y= train['bedrooms'])\n",
        "plt.ylabel('Bedroom Number', fontsize=13)\n",
        "plt.xlabel('Price', fontsize=13)\n",
        "plt.show()"
      ],
      "execution_count": 194,
      "outputs": [
        {
          "output_type": "display_data",
          "data": {
            "image/png": "[encoded data removed]",
            "text/plain": [
              "<Figure size 432x288 with 1 Axes>"
            ]
          },
          "metadata": {
            "tags": []
          }
        }
      ]
    },
    {
      "cell_type": "code",
      "metadata": {
        "id": "H-6gMXVLXvtl",
        "colab_type": "code",
        "colab": {
          "base_uri": "https://localhost:8080/",
          "height": 285
        },
        "outputId": "cf3f818e-d6e0-4b6e-9f64-de14079924ed"
      },
      "source": [
        "fig, plot = plt.subplots()\n",
        "plot.scatter(x= train['price'], y= train['bathrooms'])\n",
        "plt.ylabel('Bathroom Number', fontsize=13)\n",
        "plt.xlabel('Price', fontsize=13)\n",
        "plt.show()"
      ],
      "execution_count": 195,
      "outputs": [
        {
          "output_type": "display_data",
          "data": {
            "image/png": "[encoded data removed]",
            "text/plain": [
              "<Figure size 432x288 with 1 Axes>"
            ]
          },
          "metadata": {
            "tags": []
          }
        }
      ]
    },
    {
      "cell_type": "code",
      "metadata": {
        "id": "uSYkMwBhbbq7",
        "colab_type": "code",
        "colab": {
          "base_uri": "https://localhost:8080/",
          "height": 285
        },
        "outputId": "5b72c6da-fd98-404e-f923-ff84ea0fd300"
      },
      "source": [
        "fig, plot = plt.subplots()\n",
        "plot.scatter(x= train['price'], y= train['floor_size'])\n",
        "plt.ylabel('Price', fontsize=13)\n",
        "plt.xlabel('Floor Size', fontsize=13)\n",
        "plt.show()"
      ],
      "execution_count": 196,
      "outputs": [
        {
          "output_type": "display_data",
          "data": {
            "image/png": "[encoded data removed]",
            "text/plain": [
              "<Figure size 432x288 with 1 Axes>"
            ]
          },
          "metadata": {
            "tags": []
          }
        }
      ]
    },
    {
      "cell_type": "markdown",
      "metadata": {
        "id": "qjeqFiHcXvtv",
        "colab_type": "text"
      },
      "source": [
        "## Feature Engineering\n",
        "#### Creating new column showing number of houses in each location"
      ]
    },
    {
      "cell_type": "code",
      "metadata": {
        "id": "AKx_sM_kXvtw",
        "colab_type": "code",
        "colab": {}
      },
      "source": [
        "train['num_houses'] = train['location'].groupby(train['location']).transform('count')\n",
        "test['num_houses'] = test['location'].groupby(test['location']).transform('count')"
      ],
      "execution_count": 197,
      "outputs": []
    },
    {
      "cell_type": "code",
      "metadata": {
        "id": "Ucr4Eb_CXvt2",
        "colab_type": "code",
        "colab": {
          "base_uri": "https://localhost:8080/",
          "height": 424
        },
        "outputId": "7ebff8f5-5378-468e-f321-db39ed110ca7"
      },
      "source": [
        "train\n",
        "#(train.groupby(by=(['location'])[num_houses], as_index=False).sum())"
      ],
      "execution_count": 198,
      "outputs": [
        {
          "output_type": "execute_result",
          "data": {
            "text/html": [
              "<div>\n",
              "<style scoped>\n",
              "    .dataframe tbody tr th:only-of-type {\n",
              "        vertical-align: middle;\n",
              "    }\n",
              "\n",
              "    .dataframe tbody tr th {\n",
              "        vertical-align: top;\n",
              "    }\n",
              "\n",
              "    .dataframe thead th {\n",
              "        text-align: right;\n",
              "    }\n",
              "</style>\n",
              "<table border=\"1\" class=\"dataframe\">\n",
              "  <thead>\n",
              "    <tr style=\"text-align: right;\">\n",
              "      <th></th>\n",
              "      <th>location</th>\n",
              "      <th>price</th>\n",
              "      <th>floor_size</th>\n",
              "      <th>bathrooms</th>\n",
              "      <th>bedrooms</th>\n",
              "      <th>parking</th>\n",
              "      <th>price2</th>\n",
              "      <th>num_houses</th>\n",
              "    </tr>\n",
              "  </thead>\n",
              "  <tbody>\n",
              "    <tr>\n",
              "      <th>0</th>\n",
              "      <td>Sea Point</td>\n",
              "      <td>4500000.000</td>\n",
              "      <td>83</td>\n",
              "      <td>1.000</td>\n",
              "      <td>2.000</td>\n",
              "      <td>1.000</td>\n",
              "      <td>15.320</td>\n",
              "      <td>474</td>\n",
              "    </tr>\n",
              "    <tr>\n",
              "      <th>1</th>\n",
              "      <td>Marina Da Gama</td>\n",
              "      <td>2490000.000</td>\n",
              "      <td>243</td>\n",
              "      <td>2.000</td>\n",
              "      <td>3.000</td>\n",
              "      <td>2.000</td>\n",
              "      <td>14.728</td>\n",
              "      <td>37</td>\n",
              "    </tr>\n",
              "    <tr>\n",
              "      <th>2</th>\n",
              "      <td>Zonnebloem</td>\n",
              "      <td>1150000.000</td>\n",
              "      <td>41</td>\n",
              "      <td>1.000</td>\n",
              "      <td>1.000</td>\n",
              "      <td>1.000</td>\n",
              "      <td>13.955</td>\n",
              "      <td>151</td>\n",
              "    </tr>\n",
              "    <tr>\n",
              "      <th>3</th>\n",
              "      <td>Observatory</td>\n",
              "      <td>2150000.000</td>\n",
              "      <td>65</td>\n",
              "      <td>2.000</td>\n",
              "      <td>2.000</td>\n",
              "      <td>1.000</td>\n",
              "      <td>14.581</td>\n",
              "      <td>255</td>\n",
              "    </tr>\n",
              "    <tr>\n",
              "      <th>4</th>\n",
              "      <td>Camps Bay</td>\n",
              "      <td>5495000.000</td>\n",
              "      <td>101</td>\n",
              "      <td>2.000</td>\n",
              "      <td>2.000</td>\n",
              "      <td>2.000</td>\n",
              "      <td>15.519</td>\n",
              "      <td>172</td>\n",
              "    </tr>\n",
              "    <tr>\n",
              "      <th>...</th>\n",
              "      <td>...</td>\n",
              "      <td>...</td>\n",
              "      <td>...</td>\n",
              "      <td>...</td>\n",
              "      <td>...</td>\n",
              "      <td>...</td>\n",
              "      <td>...</td>\n",
              "      <td>...</td>\n",
              "    </tr>\n",
              "    <tr>\n",
              "      <th>8371</th>\n",
              "      <td>CapeTownCityCentre</td>\n",
              "      <td>6999000.000</td>\n",
              "      <td>2970</td>\n",
              "      <td>3.000</td>\n",
              "      <td>3.000</td>\n",
              "      <td>2.000</td>\n",
              "      <td>15.761</td>\n",
              "      <td>449</td>\n",
              "    </tr>\n",
              "    <tr>\n",
              "      <th>8372</th>\n",
              "      <td>Clifton</td>\n",
              "      <td>55000000.000</td>\n",
              "      <td>3550</td>\n",
              "      <td>4.500</td>\n",
              "      <td>5.000</td>\n",
              "      <td>4.000</td>\n",
              "      <td>17.823</td>\n",
              "      <td>51</td>\n",
              "    </tr>\n",
              "    <tr>\n",
              "      <th>8373</th>\n",
              "      <td>Plumstead</td>\n",
              "      <td>2695000.000</td>\n",
              "      <td>615</td>\n",
              "      <td>2.000</td>\n",
              "      <td>3.000</td>\n",
              "      <td>5.000</td>\n",
              "      <td>14.807</td>\n",
              "      <td>147</td>\n",
              "    </tr>\n",
              "    <tr>\n",
              "      <th>8374</th>\n",
              "      <td>Mowbray</td>\n",
              "      <td>1290000.000</td>\n",
              "      <td>60</td>\n",
              "      <td>1.000</td>\n",
              "      <td>2.000</td>\n",
              "      <td>1.000</td>\n",
              "      <td>14.070</td>\n",
              "      <td>53</td>\n",
              "    </tr>\n",
              "    <tr>\n",
              "      <th>8375</th>\n",
              "      <td>Gardens</td>\n",
              "      <td>1995000.000</td>\n",
              "      <td>800</td>\n",
              "      <td>1.000</td>\n",
              "      <td>2.000</td>\n",
              "      <td>2.000</td>\n",
              "      <td>14.506</td>\n",
              "      <td>245</td>\n",
              "    </tr>\n",
              "  </tbody>\n",
              "</table>\n",
              "<p>8376 rows × 8 columns</p>\n",
              "</div>"
            ],
            "text/plain": [
              "                location        price  floor_size  ...  parking  price2  num_houses\n",
              "0              Sea Point  4500000.000          83  ...    1.000  15.320         474\n",
              "1         Marina Da Gama  2490000.000         243  ...    2.000  14.728          37\n",
              "2             Zonnebloem  1150000.000          41  ...    1.000  13.955         151\n",
              "3            Observatory  2150000.000          65  ...    1.000  14.581         255\n",
              "4              Camps Bay  5495000.000         101  ...    2.000  15.519         172\n",
              "...                  ...          ...         ...  ...      ...     ...         ...\n",
              "8371  CapeTownCityCentre  6999000.000        2970  ...    2.000  15.761         449\n",
              "8372             Clifton 55000000.000        3550  ...    4.000  17.823          51\n",
              "8373           Plumstead  2695000.000         615  ...    5.000  14.807         147\n",
              "8374             Mowbray  1290000.000          60  ...    1.000  14.070          53\n",
              "8375             Gardens  1995000.000         800  ...    2.000  14.506         245\n",
              "\n",
              "[8376 rows x 8 columns]"
            ]
          },
          "metadata": {
            "tags": []
          },
          "execution_count": 198
        }
      ]
    },
    {
      "cell_type": "code",
      "metadata": {
        "id": "NyJyi589dfO8",
        "colab_type": "code",
        "colab": {}
      },
      "source": [
        "#train.loc[train['location'] == \"Sea Point\"].count()"
      ],
      "execution_count": 199,
      "outputs": []
    },
    {
      "cell_type": "markdown",
      "metadata": {
        "id": "-yGG767mXvuB",
        "colab_type": "text"
      },
      "source": [
        "### Kmeans clustering to see if there are groups formed by the features"
      ]
    },
    {
      "cell_type": "code",
      "metadata": {
        "id": "4UDkFxI5XvuD",
        "colab_type": "code",
        "colab": {}
      },
      "source": [
        "import matplotlib.pyplot as plt\n",
        "#from kneed import KneeLocator\n",
        "from sklearn.datasets import make_blobs\n",
        "from sklearn.cluster import KMeans\n",
        "from sklearn.metrics import silhouette_score\n",
        "from sklearn.preprocessing import StandardScaler"
      ],
      "execution_count": 200,
      "outputs": []
    },
    {
      "cell_type": "code",
      "metadata": {
        "id": "ls-Z3glaXvuK",
        "colab_type": "code",
        "colab": {
          "base_uri": "https://localhost:8080/",
          "height": 34
        },
        "outputId": "8e5053a6-e060-4d0e-da00-2a4497a5fd09"
      },
      "source": [
        "train.shape"
      ],
      "execution_count": 201,
      "outputs": [
        {
          "output_type": "execute_result",
          "data": {
            "text/plain": [
              "(8376, 8)"
            ]
          },
          "metadata": {
            "tags": []
          },
          "execution_count": 201
        }
      ]
    },
    {
      "cell_type": "code",
      "metadata": {
        "id": "B48_h_e0XvuP",
        "colab_type": "code",
        "colab": {}
      },
      "source": [
        "#find the optimal number of clusters in out data\n",
        "\n",
        "X = train.iloc[:, [1,4]].values"
      ],
      "execution_count": 202,
      "outputs": []
    },
    {
      "cell_type": "code",
      "metadata": {
        "id": "N5BGcQ-lXvuT",
        "colab_type": "code",
        "colab": {}
      },
      "source": [
        "from sklearn.cluster import KMeans\n",
        "#wcss = within cluster sum of squares\n",
        "wcss = []\n",
        "for i in range(1, 11):\n",
        "    kmeans = KMeans(n_clusters = i, init = 'k-means++', random_state = 42)\n",
        "    kmeans.fit(X)\n",
        "    # inertia method returns wcss for that model\n",
        "    wcss.append(kmeans.inertia_)"
      ],
      "execution_count": 203,
      "outputs": []
    },
    {
      "cell_type": "code",
      "metadata": {
        "id": "yEjFLXQUXvub",
        "colab_type": "code",
        "colab": {
          "base_uri": "https://localhost:8080/",
          "height": 355
        },
        "outputId": "18777060-c0a5-49a0-bdd9-51e55935f00a"
      },
      "source": [
        "plt.figure(figsize=(10,5))\n",
        "sns.lineplot(range(1, 11), wcss,marker='o',color='red')\n",
        "plt.title('The Elbow Method')\n",
        "plt.xlabel('Number of clusters')\n",
        "plt.ylabel('WCSS')\n",
        "plt.show()"
      ],
      "execution_count": 204,
      "outputs": [
        {
          "output_type": "display_data",
          "data": {
            "image/png": "[encoded data removed]",
            "text/plain": [
              "<Figure size 720x360 with 1 Axes>"
            ]
          },
          "metadata": {
            "tags": []
          }
        }
      ]
    },
    {
      "cell_type": "code",
      "metadata": {
        "id": "oJLuKGQjXvum",
        "colab_type": "code",
        "colab": {}
      },
      "source": [
        "kmeans = KMeans(n_clusters = 3, init = 'k-means++', random_state = 42)\n",
        "cl = kmeans.fit_predict(train[['price', 'floor_size', 'bathrooms', 'bedrooms']])\n",
        "cl_test= kmeans.fit_predict(test[['price', 'floor_size', 'bathrooms', 'bedrooms']])\n",
        "train['cluster'] = cl\n",
        "test['cluster'] = cl_test"
      ],
      "execution_count": 205,
      "outputs": []
    },
    {
      "cell_type": "code",
      "metadata": {
        "id": "GCwoyIM4Xvuv",
        "colab_type": "code",
        "colab": {}
      },
      "source": [
        "# Fitting K-Means to the dataset\n",
        "#kmeans = KMeans(n_clusters=3,random_state=42 )\n",
        "\n",
        "# Fitting K-Means to the dataset\n",
        "\n",
        "y_kmeans = kmeans.fit_predict(X)\n"
      ],
      "execution_count": 206,
      "outputs": []
    },
    {
      "cell_type": "code",
      "metadata": {
        "id": "NUTh1eNhXvu-",
        "colab_type": "code",
        "colab": {
          "base_uri": "https://localhost:8080/",
          "height": 34
        },
        "outputId": "e96377fe-c515-4de0-b953-f7c4f9865f61"
      },
      "source": [
        "train.shape"
      ],
      "execution_count": 207,
      "outputs": [
        {
          "output_type": "execute_result",
          "data": {
            "text/plain": [
              "(8376, 9)"
            ]
          },
          "metadata": {
            "tags": []
          },
          "execution_count": 207
        }
      ]
    },
    {
      "cell_type": "markdown",
      "metadata": {
        "id": "beammhpyXvvL",
        "colab_type": "text"
      },
      "source": [
        "### visualizations"
      ]
    },
    {
      "cell_type": "code",
      "metadata": {
        "id": "-zP262pvXvvN",
        "colab_type": "code",
        "colab": {
          "base_uri": "https://localhost:8080/",
          "height": 464
        },
        "outputId": "071c2b7b-827a-4c1f-89f9-3e223713fd13"
      },
      "source": [
        "# Visualising the clusters\n",
        "plt.figure(figsize=(15,7))\n",
        "sns.scatterplot(X[y_kmeans == 0, 0], X[y_kmeans == 0, 1], color = 'yellow', label = 'Cluster 1',s=50)\n",
        "sns.scatterplot(X[y_kmeans == 1, 0], X[y_kmeans == 1, 1], color = 'blue', label = 'Cluster 2',s=50)\n",
        "sns.scatterplot(X[y_kmeans == 2, 0], X[y_kmeans == 2, 1], color = 'green', label = 'Cluster 3',s=50)\n",
        "sns.scatterplot(X[y_kmeans == 3, 0], X[y_kmeans == 3, 1], color = 'grey', label = 'Cluster 4',s=50)\n",
        "sns.scatterplot(X[y_kmeans == 4, 0], X[y_kmeans == 4, 1], color = 'orange', label = 'Cluster 5',s=50)\n",
        "sns.scatterplot(kmeans.cluster_centers_[:, 0], kmeans.cluster_centers_[:, 1], color = 'red', \n",
        "                label = 'Centroids',s=300,marker=',')\n",
        "plt.grid(False)\n",
        "plt.title('Clusters of customers')\n",
        "plt.xlabel('Bedrooms')\n",
        "plt.ylabel('Price')\n",
        "plt.legend()\n",
        "plt.show()"
      ],
      "execution_count": 208,
      "outputs": [
        {
          "output_type": "display_data",
          "data": {
            "image/png": "[encoded data removed]",
            "text/plain": [
              "<Figure size 1080x504 with 1 Axes>"
            ]
          },
          "metadata": {
            "tags": []
          }
        }
      ]
    },
    {
      "cell_type": "code",
      "metadata": {
        "id": "p-wNQ32eXvvT",
        "colab_type": "code",
        "colab": {
          "base_uri": "https://localhost:8080/",
          "height": 298
        },
        "outputId": "3a2a53f6-f231-4ef7-fe2a-689776907635"
      },
      "source": [
        "import matplotlib.pyplot as plt\n",
        "plt.scatter(train['price'], train['floor_size'], c = train['cluster'])"
      ],
      "execution_count": 209,
      "outputs": [
        {
          "output_type": "execute_result",
          "data": {
            "text/plain": [
              "<matplotlib.collections.PathCollection at 0x7fcdf40034e0>"
            ]
          },
          "metadata": {
            "tags": []
          },
          "execution_count": 209
        },
        {
          "output_type": "display_data",
          "data": {
            "image/png": "[encoded data removed]",
            "text/plain": [
              "<Figure size 432x288 with 1 Axes>"
            ]
          },
          "metadata": {
            "tags": []
          }
        }
      ]
    },
    {
      "cell_type": "markdown",
      "metadata": {
        "id": "p5RZCMdOXvvX",
        "colab_type": "text"
      },
      "source": [
        "### checking how each column correlates with the target\n"
      ]
    },
    {
      "cell_type": "code",
      "metadata": {
        "id": "43ELMWzAXvvY",
        "colab_type": "code",
        "colab": {
          "base_uri": "https://localhost:8080/",
          "height": 173
        },
        "outputId": "929c1e84-3845-4569-db7c-4e767dcdd725"
      },
      "source": [
        "train[train.columns].corr()['price2'][:]"
      ],
      "execution_count": 210,
      "outputs": [
        {
          "output_type": "execute_result",
          "data": {
            "text/plain": [
              "price         0.801\n",
              "floor_size    0.446\n",
              "bathrooms     0.674\n",
              "bedrooms      0.536\n",
              "parking       0.415\n",
              "price2        1.000\n",
              "num_houses   -0.001\n",
              "cluster       0.688\n",
              "Name: price2, dtype: float64"
            ]
          },
          "metadata": {
            "tags": []
          },
          "execution_count": 210
        }
      ]
    },
    {
      "cell_type": "code",
      "metadata": {
        "id": "Z1rukiTcXvvd",
        "colab_type": "code",
        "colab": {
          "base_uri": "https://localhost:8080/",
          "height": 565
        },
        "outputId": "75b6d8bd-8092-4e99-aa9c-228f5e8bb20d"
      },
      "source": [
        "#checking correlation with each other\n",
        "\n",
        "corr_matrix= train.iloc[:, 1:].corr().abs()\n",
        "\n",
        "f, ax = plt.subplots(figsize =(8, 8))\n",
        "sns.heatmap(corr_matrix, ax = ax, cmap =\"YlGnBu\", linewidths = 0.1)"
      ],
      "execution_count": 211,
      "outputs": [
        {
          "output_type": "execute_result",
          "data": {
            "text/plain": [
              "<matplotlib.axes._subplots.AxesSubplot at 0x7fcdf3fcd048>"
            ]
          },
          "metadata": {
            "tags": []
          },
          "execution_count": 211
        },
        {
          "output_type": "display_data",
          "data": {
            "image/png": "[encoded data removed]",
            "text/plain": [
              "<Figure size 576x576 with 2 Axes>"
            ]
          },
          "metadata": {
            "tags": []
          }
        }
      ]
    },
    {
      "cell_type": "code",
      "metadata": {
        "id": "Ox54dSoTXvvh",
        "colab_type": "code",
        "colab": {}
      },
      "source": [
        "# transform the categorical variable location to numerical variable\n",
        "from sklearn.preprocessing import LabelEncoder\n",
        "le = LabelEncoder()\n",
        "\n",
        "train['location'] = le.fit_transform(train['location'])\n",
        "test['location'] = le.fit_transform(test['location'])"
      ],
      "execution_count": 212,
      "outputs": []
    },
    {
      "cell_type": "code",
      "metadata": {
        "id": "oHEDe6WcXvvn",
        "colab_type": "code",
        "colab": {
          "base_uri": "https://localhost:8080/",
          "height": 112
        },
        "outputId": "b13ce713-2dbb-4042-e42f-d3b8e5076f79"
      },
      "source": [
        "train.head(2)"
      ],
      "execution_count": 213,
      "outputs": [
        {
          "output_type": "execute_result",
          "data": {
            "text/html": [
              "<div>\n",
              "<style scoped>\n",
              "    .dataframe tbody tr th:only-of-type {\n",
              "        vertical-align: middle;\n",
              "    }\n",
              "\n",
              "    .dataframe tbody tr th {\n",
              "        vertical-align: top;\n",
              "    }\n",
              "\n",
              "    .dataframe thead th {\n",
              "        text-align: right;\n",
              "    }\n",
              "</style>\n",
              "<table border=\"1\" class=\"dataframe\">\n",
              "  <thead>\n",
              "    <tr style=\"text-align: right;\">\n",
              "      <th></th>\n",
              "      <th>location</th>\n",
              "      <th>price</th>\n",
              "      <th>floor_size</th>\n",
              "      <th>bathrooms</th>\n",
              "      <th>bedrooms</th>\n",
              "      <th>parking</th>\n",
              "      <th>price2</th>\n",
              "      <th>num_houses</th>\n",
              "      <th>cluster</th>\n",
              "    </tr>\n",
              "  </thead>\n",
              "  <tbody>\n",
              "    <tr>\n",
              "      <th>0</th>\n",
              "      <td>129</td>\n",
              "      <td>4500000.000</td>\n",
              "      <td>83</td>\n",
              "      <td>1.000</td>\n",
              "      <td>2.000</td>\n",
              "      <td>1.000</td>\n",
              "      <td>15.320</td>\n",
              "      <td>474</td>\n",
              "      <td>0</td>\n",
              "    </tr>\n",
              "    <tr>\n",
              "      <th>1</th>\n",
              "      <td>86</td>\n",
              "      <td>2490000.000</td>\n",
              "      <td>243</td>\n",
              "      <td>2.000</td>\n",
              "      <td>3.000</td>\n",
              "      <td>2.000</td>\n",
              "      <td>14.728</td>\n",
              "      <td>37</td>\n",
              "      <td>0</td>\n",
              "    </tr>\n",
              "  </tbody>\n",
              "</table>\n",
              "</div>"
            ],
            "text/plain": [
              "   location       price  floor_size  ...  price2  num_houses  cluster\n",
              "0       129 4500000.000          83  ...  15.320         474        0\n",
              "1        86 2490000.000         243  ...  14.728          37        0\n",
              "\n",
              "[2 rows x 9 columns]"
            ]
          },
          "metadata": {
            "tags": []
          },
          "execution_count": 213
        }
      ]
    },
    {
      "cell_type": "code",
      "metadata": {
        "id": "Us3sjlv4Xvvs",
        "colab_type": "code",
        "colab": {
          "base_uri": "https://localhost:8080/",
          "height": 112
        },
        "outputId": "9d1fea56-c115-439c-d200-2ced1fc59f82"
      },
      "source": [
        "test.head(2)"
      ],
      "execution_count": 214,
      "outputs": [
        {
          "output_type": "execute_result",
          "data": {
            "text/html": [
              "<div>\n",
              "<style scoped>\n",
              "    .dataframe tbody tr th:only-of-type {\n",
              "        vertical-align: middle;\n",
              "    }\n",
              "\n",
              "    .dataframe tbody tr th {\n",
              "        vertical-align: top;\n",
              "    }\n",
              "\n",
              "    .dataframe thead th {\n",
              "        text-align: right;\n",
              "    }\n",
              "</style>\n",
              "<table border=\"1\" class=\"dataframe\">\n",
              "  <thead>\n",
              "    <tr style=\"text-align: right;\">\n",
              "      <th></th>\n",
              "      <th>location</th>\n",
              "      <th>price</th>\n",
              "      <th>floor_size</th>\n",
              "      <th>bathrooms</th>\n",
              "      <th>bedrooms</th>\n",
              "      <th>parking</th>\n",
              "      <th>price2</th>\n",
              "      <th>num_houses</th>\n",
              "      <th>cluster</th>\n",
              "    </tr>\n",
              "  </thead>\n",
              "  <tbody>\n",
              "    <tr>\n",
              "      <th>0</th>\n",
              "      <td>16</td>\n",
              "      <td>1950000.000</td>\n",
              "      <td>43</td>\n",
              "      <td>1.000</td>\n",
              "      <td>0.500</td>\n",
              "      <td>1.000</td>\n",
              "      <td>14.483</td>\n",
              "      <td>111</td>\n",
              "      <td>0</td>\n",
              "    </tr>\n",
              "    <tr>\n",
              "      <th>1</th>\n",
              "      <td>16</td>\n",
              "      <td>2295000.000</td>\n",
              "      <td>65</td>\n",
              "      <td>1.000</td>\n",
              "      <td>1.000</td>\n",
              "      <td>0.000</td>\n",
              "      <td>14.646</td>\n",
              "      <td>111</td>\n",
              "      <td>0</td>\n",
              "    </tr>\n",
              "  </tbody>\n",
              "</table>\n",
              "</div>"
            ],
            "text/plain": [
              "   location       price  floor_size  ...  price2  num_houses  cluster\n",
              "0        16 1950000.000          43  ...  14.483         111        0\n",
              "1        16 2295000.000          65  ...  14.646         111        0\n",
              "\n",
              "[2 rows x 9 columns]"
            ]
          },
          "metadata": {
            "tags": []
          },
          "execution_count": 214
        }
      ]
    },
    {
      "cell_type": "code",
      "metadata": {
        "id": "5QPYpOKsgUDJ",
        "colab_type": "code",
        "colab": {}
      },
      "source": [
        "train.drop(['price', 'num_houses'], axis = 1, inplace = True)\n",
        "test.drop(['price', 'num_houses'], axis = 1, inplace = True)"
      ],
      "execution_count": 215,
      "outputs": []
    },
    {
      "cell_type": "markdown",
      "metadata": {
        "id": "bHc6WMv5Xvvw",
        "colab_type": "text"
      },
      "source": [
        "# Modeling\n",
        "\n",
        "## Linear Regression\n",
        "\n",
        "Linear Regression has downsides such as:\n",
        "\n",
        "- It requres multiple assumtions such as:\n",
        "  - Assuming that thre relationship between predictors and target variables are linear\n",
        "  - There are no outliers in the data\n",
        "  - No highly correlated features\n",
        "  - predicters and target variables are normally distributed\n",
        "  - scaled predictors\n",
        "\n",
        "\n",
        "\n",
        "**Performance evaluation method that was used was Root Mean Squared Error**"
      ]
    },
    {
      "cell_type": "markdown",
      "metadata": {
        "id": "XquFNMq6Xvvx",
        "colab_type": "text"
      },
      "source": [
        "### Split the data to create train, validation set"
      ]
    },
    {
      "cell_type": "code",
      "metadata": {
        "id": "NbwgXAlvXvv3",
        "colab_type": "code",
        "colab": {}
      },
      "source": [
        "y = train['price2']\n",
        "train = train.drop(['price2'], axis = 1)"
      ],
      "execution_count": 216,
      "outputs": []
    },
    {
      "cell_type": "code",
      "metadata": {
        "id": "A1K_H0yhXvv_",
        "colab_type": "code",
        "colab": {}
      },
      "source": [
        "#feature scaling\n",
        "from sklearn.preprocessing import StandardScaler\n",
        "sc_X = StandardScaler()\n",
        "new_train = sc_X.fit_transform(train)\n",
        "new_test = sc_X.fit_transform(test)"
      ],
      "execution_count": 217,
      "outputs": []
    },
    {
      "cell_type": "code",
      "metadata": {
        "id": "Zrr2qRutXvwJ",
        "colab_type": "code",
        "colab": {
          "base_uri": "https://localhost:8080/",
          "height": 34
        },
        "outputId": "3f0f5e64-5b50-4266-f0ff-7a1ec71743a8"
      },
      "source": [
        "X_train, X_test, y_train, y_test = train_test_split(new_train, y, test_size = 0.2, random_state=42)\n",
        "print(X_train.shape, y_train.shape)"
      ],
      "execution_count": 218,
      "outputs": [
        {
          "output_type": "stream",
          "text": [
            "(6700, 6) (6700,)\n"
          ],
          "name": "stdout"
        }
      ]
    },
    {
      "cell_type": "code",
      "metadata": {
        "id": "6pzE0A71XvwR",
        "colab_type": "code",
        "colab": {
          "base_uri": "https://localhost:8080/",
          "height": 34
        },
        "outputId": "9a410d82-1d7e-45fb-8593-08fd96cb324e"
      },
      "source": [
        "# Fit a basic linear regression model\n",
        "from sklearn.linear_model import LinearRegression\n",
        "lm = LinearRegression()\n",
        "lm.fit(X_train, y_train)"
      ],
      "execution_count": 219,
      "outputs": [
        {
          "output_type": "execute_result",
          "data": {
            "text/plain": [
              "LinearRegression(copy_X=True, fit_intercept=True, n_jobs=None, normalize=False)"
            ]
          },
          "metadata": {
            "tags": []
          },
          "execution_count": 219
        }
      ]
    },
    {
      "cell_type": "code",
      "metadata": {
        "id": "Fzs1lDE0XvwZ",
        "colab_type": "code",
        "colab": {}
      },
      "source": [
        "pred = lm.predict(X_test)"
      ],
      "execution_count": 220,
      "outputs": []
    },
    {
      "cell_type": "code",
      "metadata": {
        "id": "3p26dfaPXvwf",
        "colab_type": "code",
        "colab": {
          "base_uri": "https://localhost:8080/",
          "height": 34
        },
        "outputId": "f0d36d03-f5f5-40e5-a777-c4f10ca79b16"
      },
      "source": [
        "lm.score(X_test,y_test)"
      ],
      "execution_count": 221,
      "outputs": [
        {
          "output_type": "execute_result",
          "data": {
            "text/plain": [
              "0.610989647771852"
            ]
          },
          "metadata": {
            "tags": []
          },
          "execution_count": 221
        }
      ]
    },
    {
      "cell_type": "code",
      "metadata": {
        "id": "N79yTGSHXvwk",
        "colab_type": "code",
        "colab": {
          "base_uri": "https://localhost:8080/",
          "height": 34
        },
        "outputId": "9b14729b-fd3f-43e9-b4f3-6a16fb20a0c4"
      },
      "source": [
        "#evaluation\n",
        "from sklearn.metrics import mean_squared_error\n",
        "from math import sqrt\n",
        "\n",
        "print(\"RMSE:\", sqrt(mean_squared_error(y_test, pred)))\n"
      ],
      "execution_count": 222,
      "outputs": [
        {
          "output_type": "stream",
          "text": [
            "RMSE: 0.5381417081656177\n"
          ],
          "name": "stdout"
        }
      ]
    },
    {
      "cell_type": "code",
      "metadata": {
        "id": "hQSODe96Xvwv",
        "colab_type": "code",
        "colab": {
          "base_uri": "https://localhost:8080/",
          "height": 285
        },
        "outputId": "d534a653-0eae-43b5-f869-3c184e770e22"
      },
      "source": [
        "# Plot predicted vs actual\n",
        "plt.scatter(y_test, pred, alpha=0.3)\n",
        "plt.plot(y_test, y_test) # A straight line - we want to be close to this\n",
        "plt.xlabel('True Value')\n",
        "plt.ylabel('Predicted Value')\n",
        "plt.savefig('pred_vs_actual_quick_rf_sequential_split.png')"
      ],
      "execution_count": 223,
      "outputs": [
        {
          "output_type": "display_data",
          "data": {
            "image/png": "[encoded data removed]",
            "text/plain": [
              "<Figure size 432x288 with 1 Axes>"
            ]
          },
          "metadata": {
            "tags": []
          }
        }
      ]
    },
    {
      "cell_type": "markdown",
      "metadata": {
        "id": "KRL12EXDkGyn",
        "colab_type": "text"
      },
      "source": [
        "## Random Forest Regressor"
      ]
    },
    {
      "cell_type": "code",
      "metadata": {
        "id": "Ml0tcMpQkfef",
        "colab_type": "code",
        "colab": {
          "base_uri": "https://localhost:8080/",
          "height": 350
        },
        "outputId": "0f5fe37e-2a8e-417e-d487-fd08c20f4dcd"
      },
      "source": [
        "! pip install catboost"
      ],
      "execution_count": 58,
      "outputs": [
        {
          "output_type": "stream",
          "text": [
            "Collecting catboost\n",
            "\u001b[?25l  Downloading https://files.pythonhosted.org/packages/90/86/c3dcb600b4f9e7584ed90ea9d30a717fb5c0111574675f442c3e7bc19535/catboost-0.24.1-cp36-none-manylinux1_x86_64.whl (66.1MB)\n",
            "\u001b[K     |████████████████████████████████| 66.1MB 53kB/s \n",
            "\u001b[?25hRequirement already satisfied: pandas>=0.24.0 in /usr/local/lib/python3.6/dist-packages (from catboost) (1.0.5)\n",
            "Requirement already satisfied: plotly in /usr/local/lib/python3.6/dist-packages (from catboost) (4.4.1)\n",
            "Requirement already satisfied: numpy>=1.16.0 in /usr/local/lib/python3.6/dist-packages (from catboost) (1.18.5)\n",
            "Requirement already satisfied: graphviz in /usr/local/lib/python3.6/dist-packages (from catboost) (0.10.1)\n",
            "Requirement already satisfied: matplotlib in /usr/local/lib/python3.6/dist-packages (from catboost) (3.2.2)\n",
            "Requirement already satisfied: scipy in /usr/local/lib/python3.6/dist-packages (from catboost) (1.4.1)\n",
            "Requirement already satisfied: six in /usr/local/lib/python3.6/dist-packages (from catboost) (1.15.0)\n",
            "Requirement already satisfied: python-dateutil>=2.6.1 in /usr/local/lib/python3.6/dist-packages (from pandas>=0.24.0->catboost) (2.8.1)\n",
            "Requirement already satisfied: pytz>=2017.2 in /usr/local/lib/python3.6/dist-packages (from pandas>=0.24.0->catboost) (2018.9)\n",
            "Requirement already satisfied: retrying>=1.3.3 in /usr/local/lib/python3.6/dist-packages (from plotly->catboost) (1.3.3)\n",
            "Requirement already satisfied: kiwisolver>=1.0.1 in /usr/local/lib/python3.6/dist-packages (from matplotlib->catboost) (1.2.0)\n",
            "Requirement already satisfied: cycler>=0.10 in /usr/local/lib/python3.6/dist-packages (from matplotlib->catboost) (0.10.0)\n",
            "Requirement already satisfied: pyparsing!=2.0.4,!=2.1.2,!=2.1.6,>=2.0.1 in /usr/local/lib/python3.6/dist-packages (from matplotlib->catboost) (2.4.7)\n",
            "Installing collected packages: catboost\n",
            "Successfully installed catboost-0.24.1\n"
          ],
          "name": "stdout"
        }
      ]
    },
    {
      "cell_type": "code",
      "metadata": {
        "id": "hcsLcXn-kIoo",
        "colab_type": "code",
        "colab": {}
      },
      "source": [
        "from sklearn.model_selection import GridSearchCV\n",
        "from sklearn.ensemble import RandomForestRegressor\n",
        "from catboost import CatBoostRegressor\n",
        "from sklearn.ensemble import GradientBoostingRegressor"
      ],
      "execution_count": 139,
      "outputs": []
    },
    {
      "cell_type": "code",
      "metadata": {
        "id": "fWW3GkN2kc40",
        "colab_type": "code",
        "colab": {
          "base_uri": "https://localhost:8080/",
          "height": 627
        },
        "outputId": "04c482a5-a3e3-485d-be54-aad170f9215b"
      },
      "source": [
        "from sklearn.model_selection import RandomizedSearchCV\n",
        "\n",
        "n_estimators = [int(x) for x in np.linspace(start = 200, stop = 2000, num = 10)]\n",
        "max_features = ['auto', 'sqrt']\n",
        "max_depth = [int(x) for x in np.linspace(2, 110, num = 11)]\n",
        "max_depth.append(None)\n",
        "min_samples_split = [2, 5, 10]\n",
        "min_samples_leaf = [1, 2, 4]\n",
        "bootstrap = [True, False]\n",
        "random_grid = {'n_estimators': n_estimators,\n",
        "               'max_features': max_features,\n",
        "               'max_depth': max_depth,\n",
        "               'min_samples_split': min_samples_split,\n",
        "               'min_samples_leaf': min_samples_leaf,\n",
        "               'bootstrap': bootstrap}\n",
        "\n",
        "rf = RandomForestRegressor()\n",
        "rf_random = RandomizedSearchCV(estimator = rf, param_distributions = random_grid, n_iter = 100, cv = 2, verbose=2, random_state=42, n_jobs = -1)\n",
        "rf_random.fit(X_train, y_train)"
      ],
      "execution_count": 140,
      "outputs": [
        {
          "output_type": "stream",
          "text": [
            "Fitting 2 folds for each of 100 candidates, totalling 200 fits\n"
          ],
          "name": "stdout"
        },
        {
          "output_type": "stream",
          "text": [
            "[Parallel(n_jobs=-1)]: Using backend LokyBackend with 2 concurrent workers.\n",
            "/usr/local/lib/python3.6/dist-packages/joblib/externals/loky/process_executor.py:691: UserWarning: A worker stopped while some jobs were given to the executor. This can be caused by a too short worker timeout or by a memory leak.\n",
            "  \"timeout or by a memory leak.\", UserWarning\n",
            "[Parallel(n_jobs=-1)]: Done  37 tasks      | elapsed:  2.9min\n",
            "[Parallel(n_jobs=-1)]: Done 158 tasks      | elapsed: 13.2min\n",
            "[Parallel(n_jobs=-1)]: Done 200 out of 200 | elapsed: 15.9min finished\n"
          ],
          "name": "stderr"
        },
        {
          "output_type": "execute_result",
          "data": {
            "text/plain": [
              "RandomizedSearchCV(cv=2, error_score=nan,\n",
              "                   estimator=RandomForestRegressor(bootstrap=True,\n",
              "                                                   ccp_alpha=0.0,\n",
              "                                                   criterion='mse',\n",
              "                                                   max_depth=None,\n",
              "                                                   max_features='auto',\n",
              "                                                   max_leaf_nodes=None,\n",
              "                                                   max_samples=None,\n",
              "                                                   min_impurity_decrease=0.0,\n",
              "                                                   min_impurity_split=None,\n",
              "                                                   min_samples_leaf=1,\n",
              "                                                   min_samples_split=2,\n",
              "                                                   min_weight_fraction_leaf=0.0,\n",
              "                                                   n_estimators=100,\n",
              "                                                   n_jobs=None, oob_score=Fals...\n",
              "                   iid='deprecated', n_iter=100, n_jobs=-1,\n",
              "                   param_distributions={'bootstrap': [True, False],\n",
              "                                        'max_depth': [2, 12, 23, 34, 45, 56, 66,\n",
              "                                                      77, 88, 99, 110, None],\n",
              "                                        'max_features': ['auto', 'sqrt'],\n",
              "                                        'min_samples_leaf': [1, 2, 4],\n",
              "                                        'min_samples_split': [2, 5, 10],\n",
              "                                        'n_estimators': [200, 400, 600, 800,\n",
              "                                                         1000, 1200, 1400, 1600,\n",
              "                                                         1800, 2000]},\n",
              "                   pre_dispatch='2*n_jobs', random_state=42, refit=True,\n",
              "                   return_train_score=False, scoring=None, verbose=2)"
            ]
          },
          "metadata": {
            "tags": []
          },
          "execution_count": 140
        }
      ]
    },
    {
      "cell_type": "code",
      "metadata": {
        "id": "6ArurGtvlMC7",
        "colab_type": "code",
        "colab": {
          "base_uri": "https://localhost:8080/",
          "height": 121
        },
        "outputId": "307d5ed9-a8b6-42d6-820f-93e711a212fb"
      },
      "source": [
        "rf_random.best_params_"
      ],
      "execution_count": 141,
      "outputs": [
        {
          "output_type": "execute_result",
          "data": {
            "text/plain": [
              "{'bootstrap': True,\n",
              " 'max_depth': 77,\n",
              " 'max_features': 'auto',\n",
              " 'min_samples_leaf': 1,\n",
              " 'min_samples_split': 5,\n",
              " 'n_estimators': 600}"
            ]
          },
          "metadata": {
            "tags": []
          },
          "execution_count": 141
        }
      ]
    },
    {
      "cell_type": "code",
      "metadata": {
        "id": "Nb28I89ooTCs",
        "colab_type": "code",
        "colab": {
          "base_uri": "https://localhost:8080/",
          "height": 139
        },
        "outputId": "fb12049e-98be-47e6-91e2-2b4f70021c33"
      },
      "source": [
        "rf = RandomForestRegressor(**rf_random.best_params_)\n",
        "rf.fit(X_train, y_train)"
      ],
      "execution_count": 142,
      "outputs": [
        {
          "output_type": "execute_result",
          "data": {
            "text/plain": [
              "RandomForestRegressor(bootstrap=True, ccp_alpha=0.0, criterion='mse',\n",
              "                      max_depth=77, max_features='auto', max_leaf_nodes=None,\n",
              "                      max_samples=None, min_impurity_decrease=0.0,\n",
              "                      min_impurity_split=None, min_samples_leaf=1,\n",
              "                      min_samples_split=5, min_weight_fraction_leaf=0.0,\n",
              "                      n_estimators=600, n_jobs=None, oob_score=False,\n",
              "                      random_state=None, verbose=0, warm_start=False)"
            ]
          },
          "metadata": {
            "tags": []
          },
          "execution_count": 142
        }
      ]
    },
    {
      "cell_type": "code",
      "metadata": {
        "id": "h_y0NUsyoz08",
        "colab_type": "code",
        "colab": {}
      },
      "source": [
        "pred = rf.predict(X_test)"
      ],
      "execution_count": 143,
      "outputs": []
    },
    {
      "cell_type": "code",
      "metadata": {
        "id": "qNLOMcAao3bI",
        "colab_type": "code",
        "colab": {
          "base_uri": "https://localhost:8080/",
          "height": 34
        },
        "outputId": "c214fcb6-c84e-4e8e-d9f2-addfb3067103"
      },
      "source": [
        "print(\"RMSE:\", sqrt(mean_squared_error(y_test, pred)))"
      ],
      "execution_count": 144,
      "outputs": [
        {
          "output_type": "stream",
          "text": [
            "RMSE: 0.3015268190501512\n"
          ],
          "name": "stdout"
        }
      ]
    },
    {
      "cell_type": "markdown",
      "metadata": {
        "id": "nJGw8-f9Mp1b",
        "colab_type": "text"
      },
      "source": [
        "# CatBoost"
      ]
    },
    {
      "cell_type": "code",
      "metadata": {
        "id": "ldBmMVywMrHa",
        "colab_type": "code",
        "colab": {}
      },
      "source": [
        "# clf = CatBoostRegressor()\n",
        "# params = {'iterations': [400,500, 600,1000],\n",
        "#           'depth': [4, 5, 6],\n",
        "#           'loss_function': ['RMSE'],\n",
        "#           'l2_leaf_reg': np.logspace(-20, -19, 3),\n",
        "#           'leaf_estimation_iterations': [5,10, 30,50,70],\n",
        "#           'learning_rate': [0.07,0.05,0.1,0.5,.7],\n",
        "#           'logging_level':['Silent'],\n",
        "#           'random_seed': [42]\n",
        "#          }\n",
        "# clf_grid = GridSearchCV(estimator=clf, param_grid=params, cv=3)\n",
        "# clf_grid.fit(X_train, y_train)"
      ],
      "execution_count": 229,
      "outputs": []
    },
    {
      "cell_type": "code",
      "metadata": {
        "id": "4oEFJB3IaYc4",
        "colab_type": "code",
        "colab": {}
      },
      "source": [
        "params={'depth': 4,\n",
        " 'iterations': 600,\n",
        " 'l2_leaf_reg': 1e-2,\n",
        " 'leaf_estimation_iterations': 5,\n",
        " 'learning_rate': 0.07,\n",
        " 'logging_level': 'Silent',\n",
        " 'loss_function': 'RMSE',\n",
        " 'random_seed': 42}"
      ],
      "execution_count": 147,
      "outputs": []
    },
    {
      "cell_type": "code",
      "metadata": {
        "id": "QH4078ApNn4b",
        "colab_type": "code",
        "colab": {
          "base_uri": "https://localhost:8080/",
          "height": 34
        },
        "outputId": "cd89ba40-5e9e-44e1-c93c-f9d2d947d103"
      },
      "source": [
        "#params = clf_grid.best_params_\n",
        "cb_model=CatBoostRegressor(**params)\n",
        "cb_model.fit(X_train, y_train)"
      ],
      "execution_count": 149,
      "outputs": [
        {
          "output_type": "execute_result",
          "data": {
            "text/plain": [
              "<catboost.core.CatBoostRegressor at 0x7fcdf61bb278>"
            ]
          },
          "metadata": {
            "tags": []
          },
          "execution_count": 149
        }
      ]
    },
    {
      "cell_type": "code",
      "metadata": {
        "id": "ABsBn2zZaeSn",
        "colab_type": "code",
        "colab": {
          "base_uri": "https://localhost:8080/",
          "height": 34
        },
        "outputId": "60712429-d975-4a3a-995a-f1d145ec1c5f"
      },
      "source": [
        "pred = cb_model.predict(X_test)\n",
        "print(\"RMSE:\", sqrt(mean_squared_error(y_test, pred)))"
      ],
      "execution_count": 151,
      "outputs": [
        {
          "output_type": "stream",
          "text": [
            "RMSE: 0.2879075410140764\n"
          ],
          "name": "stdout"
        }
      ]
    },
    {
      "cell_type": "markdown",
      "metadata": {
        "id": "CI8t0bpRXIh5",
        "colab_type": "text"
      },
      "source": [
        "## Ensembling the Models\n"
      ]
    },
    {
      "cell_type": "code",
      "metadata": {
        "id": "M343HsbeXSmb",
        "colab_type": "code",
        "colab": {}
      },
      "source": [
        "y = test['price2']\n",
        "test = test.drop(['price2'], axis = 1)"
      ],
      "execution_count": 224,
      "outputs": []
    },
    {
      "cell_type": "code",
      "metadata": {
        "id": "Sbjmd37Fbgxe",
        "colab_type": "code",
        "colab": {
          "base_uri": "https://localhost:8080/",
          "height": 206
        },
        "outputId": "b3fcdcc1-21b7-436e-e37e-b685812df19a"
      },
      "source": [
        "test.head()"
      ],
      "execution_count": 225,
      "outputs": [
        {
          "output_type": "execute_result",
          "data": {
            "text/html": [
              "<div>\n",
              "<style scoped>\n",
              "    .dataframe tbody tr th:only-of-type {\n",
              "        vertical-align: middle;\n",
              "    }\n",
              "\n",
              "    .dataframe tbody tr th {\n",
              "        vertical-align: top;\n",
              "    }\n",
              "\n",
              "    .dataframe thead th {\n",
              "        text-align: right;\n",
              "    }\n",
              "</style>\n",
              "<table border=\"1\" class=\"dataframe\">\n",
              "  <thead>\n",
              "    <tr style=\"text-align: right;\">\n",
              "      <th></th>\n",
              "      <th>location</th>\n",
              "      <th>floor_size</th>\n",
              "      <th>bathrooms</th>\n",
              "      <th>bedrooms</th>\n",
              "      <th>parking</th>\n",
              "      <th>cluster</th>\n",
              "    </tr>\n",
              "  </thead>\n",
              "  <tbody>\n",
              "    <tr>\n",
              "      <th>0</th>\n",
              "      <td>16</td>\n",
              "      <td>43</td>\n",
              "      <td>1.000</td>\n",
              "      <td>0.500</td>\n",
              "      <td>1.000</td>\n",
              "      <td>0</td>\n",
              "    </tr>\n",
              "    <tr>\n",
              "      <th>1</th>\n",
              "      <td>16</td>\n",
              "      <td>65</td>\n",
              "      <td>1.000</td>\n",
              "      <td>1.000</td>\n",
              "      <td>0.000</td>\n",
              "      <td>0</td>\n",
              "    </tr>\n",
              "    <tr>\n",
              "      <th>2</th>\n",
              "      <td>45</td>\n",
              "      <td>72</td>\n",
              "      <td>1.000</td>\n",
              "      <td>1.000</td>\n",
              "      <td>0.000</td>\n",
              "      <td>0</td>\n",
              "    </tr>\n",
              "    <tr>\n",
              "      <th>3</th>\n",
              "      <td>76</td>\n",
              "      <td>86</td>\n",
              "      <td>2.000</td>\n",
              "      <td>2.000</td>\n",
              "      <td>1.000</td>\n",
              "      <td>0</td>\n",
              "    </tr>\n",
              "    <tr>\n",
              "      <th>4</th>\n",
              "      <td>76</td>\n",
              "      <td>380</td>\n",
              "      <td>1.000</td>\n",
              "      <td>2.000</td>\n",
              "      <td>1.000</td>\n",
              "      <td>0</td>\n",
              "    </tr>\n",
              "  </tbody>\n",
              "</table>\n",
              "</div>"
            ],
            "text/plain": [
              "   location  floor_size  bathrooms  bedrooms  parking  cluster\n",
              "0        16          43      1.000     0.500    1.000        0\n",
              "1        16          65      1.000     1.000    0.000        0\n",
              "2        45          72      1.000     1.000    0.000        0\n",
              "3        76          86      2.000     2.000    1.000        0\n",
              "4        76         380      1.000     2.000    1.000        0"
            ]
          },
          "metadata": {
            "tags": []
          },
          "execution_count": 225
        }
      ]
    },
    {
      "cell_type": "code",
      "metadata": {
        "id": "s3DVNGv1W_Zs",
        "colab_type": "code",
        "colab": {}
      },
      "source": [
        "X_test_pred = (cb_model.predict(test)+rf.predict(test))/2"
      ],
      "execution_count": 226,
      "outputs": []
    },
    {
      "cell_type": "code",
      "metadata": {
        "id": "BYebof-QXh_y",
        "colab_type": "code",
        "colab": {
          "base_uri": "https://localhost:8080/",
          "height": 34
        },
        "outputId": "86991d98-06d1-44cf-d748-6c07af97eb6f"
      },
      "source": [
        "# final model performance\n",
        "\n",
        "print(\"RMSE:\", sqrt(mean_squared_error(y, X_test_pred)))"
      ],
      "execution_count": 227,
      "outputs": [
        {
          "output_type": "stream",
          "text": [
            "RMSE: 0.6870009239016809\n"
          ],
          "name": "stdout"
        }
      ]
    },
    {
      "cell_type": "code",
      "metadata": {
        "id": "eqW921SOb8x4",
        "colab_type": "code",
        "colab": {}
      },
      "source": [
        ""
      ],
      "execution_count": null,
      "outputs": []
    }
  ]
}